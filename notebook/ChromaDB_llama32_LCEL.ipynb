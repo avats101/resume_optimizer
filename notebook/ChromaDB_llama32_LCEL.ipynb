{
  "cells": [
    {
      "cell_type": "markdown",
      "id": "5bac2f0d",
      "metadata": {
        "id": "5bac2f0d",
        "papermill": {
          "duration": 0.010703,
          "end_time": "2023-11-07T23:38:48.894198",
          "exception": false,
          "start_time": "2023-11-07T23:38:48.883495",
          "status": "completed"
        },
        "tags": []
      },
      "source": [
        "# Install and load the libraries."
      ]
    },
    {
      "cell_type": "code",
      "execution_count": 1,
      "id": "1ecaf9c5",
      "metadata": {
        "_kg_hide-output": true,
        "colab": {
          "base_uri": "https://localhost:8080/"
        },
        "execution": {
          "iopub.execute_input": "2023-11-07T23:38:48.918551Z",
          "iopub.status.busy": "2023-11-07T23:38:48.917508Z",
          "iopub.status.idle": "2023-11-07T23:40:10.466442Z",
          "shell.execute_reply": "2023-11-07T23:40:10.465295Z"
        },
        "id": "1ecaf9c5",
        "outputId": "502a6e6e-4523-4d89-9e73-46c37693417c",
        "papermill": {
          "duration": 81.563917,
          "end_time": "2023-11-07T23:40:10.469187",
          "exception": false,
          "start_time": "2023-11-07T23:38:48.90527",
          "status": "completed"
        },
        "scrolled": true,
        "tags": []
      },
      "outputs": [],
      "source": [
        "!pip install -q chromadb==0.4.22\n",
        "!pip install -q langchain==0.1.4\n",
        "!pip install -q sentence_transformers==2.3.0\n",
        "!pip install -q accelerate==0.26.1"
      ]
    },
    {
      "cell_type": "markdown",
      "id": "f407d757",
      "metadata": {
        "id": "f407d757",
        "papermill": {
          "duration": 0.022555,
          "end_time": "2023-11-07T23:40:10.609309",
          "exception": false,
          "start_time": "2023-11-07T23:40:10.586754",
          "status": "completed"
        },
        "tags": []
      },
      "source": [
        "# Load the Dataset"
      ]
    },
    {
      "cell_type": "code",
      "execution_count": 2,
      "id": "09ea9d7c",
      "metadata": {
        "execution": {
          "iopub.execute_input": "2023-11-07T23:40:10.558175Z",
          "iopub.status.busy": "2023-11-07T23:40:10.55769Z",
          "iopub.status.idle": "2023-11-07T23:40:10.562952Z",
          "shell.execute_reply": "2023-11-07T23:40:10.561864Z"
        },
        "id": "09ea9d7c",
        "papermill": {
          "duration": 0.030688,
          "end_time": "2023-11-07T23:40:10.565135",
          "exception": false,
          "start_time": "2023-11-07T23:40:10.534447",
          "status": "completed"
        },
        "tags": []
      },
      "outputs": [],
      "source": [
        "import numpy as np\n",
        "import pandas as pd"
      ]
    },
    {
      "cell_type": "code",
      "execution_count": 3,
      "id": "34403557",
      "metadata": {
        "execution": {
          "iopub.execute_input": "2023-11-07T23:40:10.653256Z",
          "iopub.status.busy": "2023-11-07T23:40:10.652861Z",
          "iopub.status.idle": "2023-11-07T23:40:11.635339Z",
          "shell.execute_reply": "2023-11-07T23:40:11.634406Z"
        },
        "id": "34403557",
        "papermill": {
          "duration": 1.007443,
          "end_time": "2023-11-07T23:40:11.637872",
          "exception": false,
          "start_time": "2023-11-07T23:40:10.630429",
          "status": "completed"
        },
        "tags": []
      },
      "outputs": [],
      "source": [
        "#Download and unzip  the dataset from kaggle:\n",
        "#https://www.kaggle.com/datasets/snehaanbhawal/resume-dataset?resource=download\n",
        "\n",
        "#Pass the directory where the .csv file is stored to read_csv\n",
        "resumes = pd.read_csv('../data/UpdatedResumeDataSet.csv', sep=',')\n",
        "\n",
        "#Using plain text resumes for simplicity\n",
        "DOCUMENT=\"Resume\" \n",
        "CATEGORY=\"Category\"\n",
        "ID=\"ID\""
      ]
    },
    {
      "cell_type": "code",
      "execution_count": 4,
      "id": "169f5c74",
      "metadata": {},
      "outputs": [
        {
          "data": {
            "text/html": [
              "<div>\n",
              "<style scoped>\n",
              "    .dataframe tbody tr th:only-of-type {\n",
              "        vertical-align: middle;\n",
              "    }\n",
              "\n",
              "    .dataframe tbody tr th {\n",
              "        vertical-align: top;\n",
              "    }\n",
              "\n",
              "    .dataframe thead th {\n",
              "        text-align: right;\n",
              "    }\n",
              "</style>\n",
              "<table border=\"1\" class=\"dataframe\">\n",
              "  <thead>\n",
              "    <tr style=\"text-align: right;\">\n",
              "      <th></th>\n",
              "      <th>Category</th>\n",
              "      <th>Resume</th>\n",
              "    </tr>\n",
              "  </thead>\n",
              "  <tbody>\n",
              "    <tr>\n",
              "      <th>0</th>\n",
              "      <td>Data Science</td>\n",
              "      <td>Skills * Programming Languages: Python (pandas...</td>\n",
              "    </tr>\n",
              "    <tr>\n",
              "      <th>1</th>\n",
              "      <td>Data Science</td>\n",
              "      <td>Education Details \\r\\nMay 2013 to May 2017 B.E...</td>\n",
              "    </tr>\n",
              "  </tbody>\n",
              "</table>\n",
              "</div>"
            ],
            "text/plain": [
              "       Category                                             Resume\n",
              "0  Data Science  Skills * Programming Languages: Python (pandas...\n",
              "1  Data Science  Education Details \\r\\nMay 2013 to May 2017 B.E..."
            ]
          },
          "execution_count": 4,
          "metadata": {},
          "output_type": "execute_result"
        }
      ],
      "source": [
        "resumes.head(2)"
      ]
    },
    {
      "cell_type": "code",
      "execution_count": 5,
      "id": "b1f30ab1",
      "metadata": {},
      "outputs": [
        {
          "name": "stdout",
          "output_type": "stream",
          "text": [
            "Categories: ['Data Science' 'HR' 'Advocate' 'Arts' 'Web Designing'\n",
            " 'Mechanical Engineer' 'Sales' 'Health and fitness' 'Civil Engineer'\n",
            " 'Java Developer' 'Business Analyst' 'SAP Developer' 'Automation Testing'\n",
            " 'Electrical Engineering' 'Operations Manager' 'Python Developer'\n",
            " 'DevOps Engineer' 'Network Security Engineer' 'PMO' 'Database' 'Hadoop'\n",
            " 'ETL Developer' 'DotNet Developer' 'Blockchain' 'Testing']\n"
          ]
        }
      ],
      "source": [
        "#Show distinct resume categories\n",
        "categories = resumes[CATEGORY].unique()\n",
        "print(f\"Categories: {categories}\")"
      ]
    },
    {
      "cell_type": "code",
      "execution_count": 6,
      "id": "dbd559e2",
      "metadata": {},
      "outputs": [],
      "source": [
        "#Because it is just a example we select a small portion of resumes\n",
        "#Per the 3/11/25 meeting, we'll focus on tech resumes\n",
        "CATEGORY = \"Data Science\"\n",
        "subset_resumes = resumes[resumes[\"Category\"] == CATEGORY].reset_index(drop=True)"
      ]
    },
    {
      "cell_type": "code",
      "execution_count": 7,
      "id": "87b2f5bd",
      "metadata": {
        "colab": {
          "base_uri": "https://localhost:8080/",
          "height": 112
        },
        "execution": {
          "iopub.execute_input": "2023-11-07T23:40:11.682843Z",
          "iopub.status.busy": "2023-11-07T23:40:11.682429Z",
          "iopub.status.idle": "2023-11-07T23:40:11.703593Z",
          "shell.execute_reply": "2023-11-07T23:40:11.702566Z"
        },
        "id": "87b2f5bd",
        "outputId": "86a30252-add3-4455-9d81-23b1ecae7598",
        "papermill": {
          "duration": 0.046286,
          "end_time": "2023-11-07T23:40:11.705855",
          "exception": false,
          "start_time": "2023-11-07T23:40:11.659569",
          "status": "completed"
        },
        "tags": []
      },
      "outputs": [
        {
          "data": {
            "text/html": [
              "<div>\n",
              "<style scoped>\n",
              "    .dataframe tbody tr th:only-of-type {\n",
              "        vertical-align: middle;\n",
              "    }\n",
              "\n",
              "    .dataframe tbody tr th {\n",
              "        vertical-align: top;\n",
              "    }\n",
              "\n",
              "    .dataframe thead th {\n",
              "        text-align: right;\n",
              "    }\n",
              "</style>\n",
              "<table border=\"1\" class=\"dataframe\">\n",
              "  <thead>\n",
              "    <tr style=\"text-align: right;\">\n",
              "      <th></th>\n",
              "      <th>Category</th>\n",
              "      <th>Resume</th>\n",
              "    </tr>\n",
              "  </thead>\n",
              "  <tbody>\n",
              "    <tr>\n",
              "      <th>0</th>\n",
              "      <td>Data Science</td>\n",
              "      <td>Skills * Programming Languages: Python (pandas...</td>\n",
              "    </tr>\n",
              "    <tr>\n",
              "      <th>1</th>\n",
              "      <td>Data Science</td>\n",
              "      <td>Education Details \\r\\nMay 2013 to May 2017 B.E...</td>\n",
              "    </tr>\n",
              "  </tbody>\n",
              "</table>\n",
              "</div>"
            ],
            "text/plain": [
              "       Category                                             Resume\n",
              "0  Data Science  Skills * Programming Languages: Python (pandas...\n",
              "1  Data Science  Education Details \\r\\nMay 2013 to May 2017 B.E..."
            ]
          },
          "execution_count": 7,
          "metadata": {},
          "output_type": "execute_result"
        }
      ],
      "source": [
        "subset_resumes.head(2)"
      ]
    },
    {
      "cell_type": "code",
      "execution_count": 8,
      "id": "2eecd3a6",
      "metadata": {},
      "outputs": [
        {
          "data": {
            "text/plain": [
              "(40, 2)"
            ]
          },
          "execution_count": 8,
          "metadata": {},
          "output_type": "execute_result"
        }
      ],
      "source": [
        "subset_resumes.shape"
      ]
    },
    {
      "cell_type": "markdown",
      "id": "25ef4e81",
      "metadata": {
        "id": "25ef4e81",
        "papermill": {
          "duration": 0.021487,
          "end_time": "2023-11-07T23:40:11.748796",
          "exception": false,
          "start_time": "2023-11-07T23:40:11.727309",
          "status": "completed"
        },
        "tags": []
      },
      "source": [
        "## CREATE THE DOCUMENT FROM THE DATAFRAME"
      ]
    },
    {
      "cell_type": "code",
      "execution_count": 9,
      "id": "4c6f1238",
      "metadata": {
        "execution": {
          "iopub.execute_input": "2023-11-07T23:40:11.793285Z",
          "iopub.status.busy": "2023-11-07T23:40:11.792911Z",
          "iopub.status.idle": "2023-11-07T23:40:12.353535Z",
          "shell.execute_reply": "2023-11-07T23:40:12.352343Z"
        },
        "id": "4c6f1238",
        "papermill": {
          "duration": 0.585876,
          "end_time": "2023-11-07T23:40:12.35627",
          "exception": false,
          "start_time": "2023-11-07T23:40:11.770394",
          "status": "completed"
        },
        "tags": []
      },
      "outputs": [],
      "source": [
        "from langchain.document_loaders import DataFrameLoader\n",
        "from langchain.vectorstores import Chroma\n"
      ]
    },
    {
      "cell_type": "markdown",
      "id": "eb88b124",
      "metadata": {
        "id": "eb88b124",
        "papermill": {
          "duration": 0.021508,
          "end_time": "2023-11-07T23:40:12.399239",
          "exception": false,
          "start_time": "2023-11-07T23:40:12.377731",
          "status": "completed"
        },
        "tags": []
      },
      "source": [
        "First, we create the loader, indicating the data source and the name of the column in the DataFrame where we store what we could consider as the document, that is, the information we want to pass to the model so that it takes it into account in its responses."
      ]
    },
    {
      "cell_type": "code",
      "execution_count": 10,
      "id": "78614daa",
      "metadata": {
        "execution": {
          "iopub.execute_input": "2023-11-07T23:40:12.444219Z",
          "iopub.status.busy": "2023-11-07T23:40:12.443484Z",
          "iopub.status.idle": "2023-11-07T23:40:12.449168Z",
          "shell.execute_reply": "2023-11-07T23:40:12.447976Z"
        },
        "id": "78614daa",
        "papermill": {
          "duration": 0.030632,
          "end_time": "2023-11-07T23:40:12.451276",
          "exception": false,
          "start_time": "2023-11-07T23:40:12.420644",
          "status": "completed"
        },
        "tags": []
      },
      "outputs": [],
      "source": [
        "df_loader = DataFrameLoader(subset_resumes, page_content_column=DOCUMENT)"
      ]
    },
    {
      "cell_type": "markdown",
      "id": "e777e3ec",
      "metadata": {
        "id": "e777e3ec",
        "papermill": {
          "duration": 0.02084,
          "end_time": "2023-11-07T23:40:12.4936",
          "exception": false,
          "start_time": "2023-11-07T23:40:12.47276",
          "status": "completed"
        },
        "tags": []
      },
      "source": [
        "Then, we use the loader to load the document."
      ]
    },
    {
      "cell_type": "code",
      "execution_count": 11,
      "id": "1d0b81fd",
      "metadata": {
        "execution": {
          "iopub.execute_input": "2023-11-07T23:40:12.537857Z",
          "iopub.status.busy": "2023-11-07T23:40:12.537404Z",
          "iopub.status.idle": "2023-11-07T23:40:12.652204Z",
          "shell.execute_reply": "2023-11-07T23:40:12.650913Z"
        },
        "id": "1d0b81fd",
        "papermill": {
          "duration": 0.140406,
          "end_time": "2023-11-07T23:40:12.65498",
          "exception": false,
          "start_time": "2023-11-07T23:40:12.514574",
          "status": "completed"
        },
        "tags": []
      },
      "outputs": [],
      "source": [
        "df_document = df_loader.load()"
      ]
    },
    {
      "cell_type": "code",
      "execution_count": 12,
      "id": "948950f7",
      "metadata": {
        "_kg_hide-output": true,
        "colab": {
          "base_uri": "https://localhost:8080/",
          "height": 121
        },
        "execution": {
          "iopub.execute_input": "2023-11-07T23:40:12.700437Z",
          "iopub.status.busy": "2023-11-07T23:40:12.699647Z",
          "iopub.status.idle": "2023-11-07T23:40:12.759691Z",
          "shell.execute_reply": "2023-11-07T23:40:12.758871Z"
        },
        "id": "948950f7",
        "outputId": "9b1ccdff-c919-4cc7-a9f3-205f2228d494",
        "papermill": {
          "duration": 0.10378,
          "end_time": "2023-11-07T23:40:12.780315",
          "exception": false,
          "start_time": "2023-11-07T23:40:12.676535",
          "status": "completed"
        },
        "scrolled": true,
        "tags": []
      },
      "outputs": [
        {
          "data": {
            "text/plain": [
              "[Document(page_content='Skills * Programming Languages: Python (pandas, numpy, scipy, scikit-learn, matplotlib), Sql, Java, JavaScript/JQuery. * Machine learning: Regression, SVM, NaÃ¯ve Bayes, KNN, Random Forest, Decision Trees, Boosting techniques, Cluster Analysis, Word Embedding, Sentiment Analysis, Natural Language processing, Dimensionality reduction, Topic Modelling (LDA, NMF), PCA & Neural Nets. * Database Visualizations: Mysql, SqlServer, Cassandra, Hbase, ElasticSearch D3.js, DC.js, Plotly, kibana, matplotlib, ggplot, Tableau. * Others: Regular Expression, HTML, CSS, Angular 6, Logstash, Kafka, Python Flask, Git, Docker, computer vision - Open CV and understanding of Deep learning.Education Details \\r\\n\\r\\nData Science Assurance Associate \\r\\n\\r\\nData Science Assurance Associate - Ernst & Young LLP\\r\\nSkill Details \\r\\nJAVASCRIPT- Exprience - 24 months\\r\\njQuery- Exprience - 24 months\\r\\nPython- Exprience - 24 monthsCompany Details \\r\\ncompany - Ernst & Young LLP\\r\\ndescription - Fraud Investigations and Dispute Services   Assurance\\r\\nTECHNOLOGY ASSISTED REVIEW\\r\\nTAR (Technology Assisted Review) assists in accelerating the review process and run analytics and generate reports.\\r\\n* Core member of a team helped in developing automated review platform tool from scratch for assisting E discovery domain, this tool implements predictive coding and topic modelling by automating reviews, resulting in reduced labor costs and time spent during the lawyers review.\\r\\n* Understand the end to end flow of the solution, doing research and development for classification models, predictive analysis and mining of the information present in text data. Worked on analyzing the outputs and precision monitoring for the entire tool.\\r\\n* TAR assists in predictive coding, topic modelling from the evidence by following EY standards. Developed the classifier models in order to identify \"red flags\" and fraud-related issues.\\r\\n\\r\\nTools & Technologies: Python, scikit-learn, tfidf, word2vec, doc2vec, cosine similarity, NaÃ¯ve Bayes, LDA, NMF for topic modelling, Vader and text blob for sentiment analysis. Matplot lib, Tableau dashboard for reporting.\\r\\n\\r\\nMULTIPLE DATA SCIENCE AND ANALYTIC PROJECTS (USA CLIENTS)\\r\\nTEXT ANALYTICS - MOTOR VEHICLE CUSTOMER REVIEW DATA * Received customer feedback survey data for past one year. Performed sentiment (Positive, Negative & Neutral) and time series analysis on customer comments across all 4 categories.\\r\\n* Created heat map of terms by survey category based on frequency of words * Extracted Positive and Negative words across all the Survey categories and plotted Word cloud.\\r\\n* Created customized tableau dashboards for effective reporting and visualizations.\\r\\nCHATBOT * Developed a user friendly chatbot for one of our Products which handle simple questions about hours of operation, reservation options and so on.\\r\\n* This chat bot serves entire product related questions. Giving overview of tool via QA platform and also give recommendation responses so that user question to build chain of relevant answer.\\r\\n* This too has intelligence to build the pipeline of questions as per user requirement and asks the relevant /recommended questions.\\r\\n\\r\\nTools & Technologies: Python, Natural language processing, NLTK, spacy, topic modelling, Sentiment analysis, Word Embedding, scikit-learn, JavaScript/JQuery, SqlServer\\r\\n\\r\\nINFORMATION GOVERNANCE\\r\\nOrganizations to make informed decisions about all of the information they store. The integrated Information Governance portfolio synthesizes intelligence across unstructured data sources and facilitates action to ensure organizations are best positioned to counter information risk.\\r\\n* Scan data from multiple sources of formats and parse different file formats, extract Meta data information, push results for indexing elastic search and created customized, interactive dashboards using kibana.\\r\\n* Preforming ROT Analysis on the data which give information of data which helps identify content that is either Redundant, Outdated, or Trivial.\\r\\n* Preforming full-text search analysis on elastic search with predefined methods which can tag as (PII) personally identifiable information (social security numbers, addresses, names, etc.) which frequently targeted during cyber-attacks.\\r\\nTools & Technologies: Python, Flask, Elastic Search, Kibana\\r\\n\\r\\nFRAUD ANALYTIC PLATFORM\\r\\nFraud Analytics and investigative platform to review all red flag cases.\\r\\nâ\\x80¢ FAP is a Fraud Analytics and investigative platform with inbuilt case manager and suite of Analytics for various ERP systems.\\r\\n* It can be used by clients to interrogate their Accounting systems for identifying the anomalies which can be indicators of fraud by running advanced analytics\\r\\nTools & Technologies: HTML, JavaScript, SqlServer, JQuery, CSS, Bootstrap, Node.js, D3.js, DC.js', metadata={'Category': 'Data Science'}),\n",
              " Document(page_content='Education Details \\r\\nMay 2013 to May 2017 B.E   UIT-RGPV\\r\\nData Scientist \\r\\n\\r\\nData Scientist - Matelabs\\r\\nSkill Details \\r\\nPython- Exprience - Less than 1 year months\\r\\nStatsmodels- Exprience - 12 months\\r\\nAWS- Exprience - Less than 1 year months\\r\\nMachine learning- Exprience - Less than 1 year months\\r\\nSklearn- Exprience - Less than 1 year months\\r\\nScipy- Exprience - Less than 1 year months\\r\\nKeras- Exprience - Less than 1 year monthsCompany Details \\r\\ncompany - Matelabs\\r\\ndescription - ML Platform for business professionals, dummies and enthusiasts.\\r\\n60/A Koramangala 5th block,\\r\\nAchievements/Tasks behind sukh sagar, Bengaluru,\\r\\nIndia                               Developed and deployed auto preprocessing steps of machine learning mainly missing value\\r\\ntreatment, outlier detection, encoding, scaling, feature selection and dimensionality reduction.\\r\\nDeployed automated classification and regression model.\\r\\nlinkedin.com/in/aditya-rathore-\\r\\nb4600b146                           Reasearch and deployed the time series forecasting model ARIMA, SARIMAX, Holt-winter and\\r\\nProphet.\\r\\nWorked on meta-feature extracting problem.\\r\\ngithub.com/rathorology\\r\\nImplemented a state of the art research paper on outlier detection for mixed attributes.\\r\\ncompany - Matelabs\\r\\ndescription - ', metadata={'Category': 'Data Science'})]"
            ]
          },
          "metadata": {},
          "output_type": "display_data"
        }
      ],
      "source": [
        "display(df_document[:2])"
      ]
    },
    {
      "cell_type": "markdown",
      "id": "82937c96",
      "metadata": {
        "id": "82937c96",
        "papermill": {
          "duration": 0.026601,
          "end_time": "2023-11-07T23:40:12.833936",
          "exception": false,
          "start_time": "2023-11-07T23:40:12.807335",
          "status": "completed"
        },
        "tags": []
      },
      "source": [
        "# Creating the embeddings"
      ]
    },
    {
      "cell_type": "markdown",
      "id": "1fb2bc4b",
      "metadata": {},
      "source": [
        "We split the data into manageable chunks to store as vectors using **CharacterTextSplitter**. There isn't an exact way to do this, more chunks means more detailed context, but will increase the size of our vectorstore.\n",
        "\n",
        "There are no magic numbers to inform. It is important to consider that the larger the chunk size, the more context the model will have, but the size of our vector store will also increase."
      ]
    },
    {
      "cell_type": "code",
      "execution_count": 13,
      "id": "ff0787e7",
      "metadata": {},
      "outputs": [],
      "source": [
        "from langchain.text_splitter import CharacterTextSplitter"
      ]
    },
    {
      "cell_type": "code",
      "execution_count": 14,
      "id": "316f5b14",
      "metadata": {
        "execution": {
          "iopub.execute_input": "2023-11-07T23:40:13.004502Z",
          "iopub.status.busy": "2023-11-07T23:40:13.003754Z",
          "iopub.status.idle": "2023-11-07T23:40:13.04734Z",
          "shell.execute_reply": "2023-11-07T23:40:13.046217Z"
        },
        "id": "316f5b14",
        "papermill": {
          "duration": 0.07506,
          "end_time": "2023-11-07T23:40:13.050342",
          "exception": false,
          "start_time": "2023-11-07T23:40:12.975282",
          "status": "completed"
        },
        "tags": []
      },
      "outputs": [],
      "source": [
        "from langchain.text_splitter import RecursiveCharacterTextSplitter\n",
        "text_splitter = RecursiveCharacterTextSplitter(\n",
        "    chunk_size=3000,  # Large enough to keep resume context\n",
        "    chunk_overlap=400  # Allows minor overlap for coherence\n",
        ")\n",
        "\n",
        "texts = text_splitter.split_documents(df_document)"
      ]
    },
    {
      "cell_type": "code",
      "execution_count": 15,
      "id": "055f18e7",
      "metadata": {},
      "outputs": [
        {
          "data": {
            "text/plain": [
              "[Document(page_content='Skills * Programming Languages: Python (pandas, numpy, scipy, scikit-learn, matplotlib), Sql, Java, JavaScript/JQuery. * Machine learning: Regression, SVM, NaÃ¯ve Bayes, KNN, Random Forest, Decision Trees, Boosting techniques, Cluster Analysis, Word Embedding, Sentiment Analysis, Natural Language processing, Dimensionality reduction, Topic Modelling (LDA, NMF), PCA & Neural Nets. * Database Visualizations: Mysql, SqlServer, Cassandra, Hbase, ElasticSearch D3.js, DC.js, Plotly, kibana, matplotlib, ggplot, Tableau. * Others: Regular Expression, HTML, CSS, Angular 6, Logstash, Kafka, Python Flask, Git, Docker, computer vision - Open CV and understanding of Deep learning.Education Details \\r\\n\\r\\nData Science Assurance Associate \\r\\n\\r\\nData Science Assurance Associate - Ernst & Young LLP\\r\\nSkill Details \\r\\nJAVASCRIPT- Exprience - 24 months\\r\\njQuery- Exprience - 24 months\\r\\nPython- Exprience - 24 monthsCompany Details \\r\\ncompany - Ernst & Young LLP\\r\\ndescription - Fraud Investigations and Dispute Services   Assurance\\r\\nTECHNOLOGY ASSISTED REVIEW\\r\\nTAR (Technology Assisted Review) assists in accelerating the review process and run analytics and generate reports.\\r\\n* Core member of a team helped in developing automated review platform tool from scratch for assisting E discovery domain, this tool implements predictive coding and topic modelling by automating reviews, resulting in reduced labor costs and time spent during the lawyers review.\\r\\n* Understand the end to end flow of the solution, doing research and development for classification models, predictive analysis and mining of the information present in text data. Worked on analyzing the outputs and precision monitoring for the entire tool.\\r\\n* TAR assists in predictive coding, topic modelling from the evidence by following EY standards. Developed the classifier models in order to identify \"red flags\" and fraud-related issues.\\r\\n\\r\\nTools & Technologies: Python, scikit-learn, tfidf, word2vec, doc2vec, cosine similarity, NaÃ¯ve Bayes, LDA, NMF for topic modelling, Vader and text blob for sentiment analysis. Matplot lib, Tableau dashboard for reporting.\\r\\n\\r\\nMULTIPLE DATA SCIENCE AND ANALYTIC PROJECTS (USA CLIENTS)\\r\\nTEXT ANALYTICS - MOTOR VEHICLE CUSTOMER REVIEW DATA * Received customer feedback survey data for past one year. Performed sentiment (Positive, Negative & Neutral) and time series analysis on customer comments across all 4 categories.\\r\\n* Created heat map of terms by survey category based on frequency of words * Extracted Positive and Negative words across all the Survey categories and plotted Word cloud.\\r\\n* Created customized tableau dashboards for effective reporting and visualizations.\\r\\nCHATBOT * Developed a user friendly chatbot for one of our Products which handle simple questions about hours of operation, reservation options and so on.', metadata={'Category': 'Data Science'}),\n",
              " Document(page_content='* Created customized tableau dashboards for effective reporting and visualizations.\\r\\nCHATBOT * Developed a user friendly chatbot for one of our Products which handle simple questions about hours of operation, reservation options and so on.\\r\\n* This chat bot serves entire product related questions. Giving overview of tool via QA platform and also give recommendation responses so that user question to build chain of relevant answer.\\r\\n* This too has intelligence to build the pipeline of questions as per user requirement and asks the relevant /recommended questions.\\r\\n\\r\\nTools & Technologies: Python, Natural language processing, NLTK, spacy, topic modelling, Sentiment analysis, Word Embedding, scikit-learn, JavaScript/JQuery, SqlServer\\r\\n\\r\\nINFORMATION GOVERNANCE\\r\\nOrganizations to make informed decisions about all of the information they store. The integrated Information Governance portfolio synthesizes intelligence across unstructured data sources and facilitates action to ensure organizations are best positioned to counter information risk.\\r\\n* Scan data from multiple sources of formats and parse different file formats, extract Meta data information, push results for indexing elastic search and created customized, interactive dashboards using kibana.\\r\\n* Preforming ROT Analysis on the data which give information of data which helps identify content that is either Redundant, Outdated, or Trivial.\\r\\n* Preforming full-text search analysis on elastic search with predefined methods which can tag as (PII) personally identifiable information (social security numbers, addresses, names, etc.) which frequently targeted during cyber-attacks.\\r\\nTools & Technologies: Python, Flask, Elastic Search, Kibana\\r\\n\\r\\nFRAUD ANALYTIC PLATFORM\\r\\nFraud Analytics and investigative platform to review all red flag cases.\\r\\nâ\\x80¢ FAP is a Fraud Analytics and investigative platform with inbuilt case manager and suite of Analytics for various ERP systems.\\r\\n* It can be used by clients to interrogate their Accounting systems for identifying the anomalies which can be indicators of fraud by running advanced analytics\\r\\nTools & Technologies: HTML, JavaScript, SqlServer, JQuery, CSS, Bootstrap, Node.js, D3.js, DC.js', metadata={'Category': 'Data Science'})]"
            ]
          },
          "metadata": {},
          "output_type": "display_data"
        }
      ],
      "source": [
        "display(texts[:2])"
      ]
    },
    {
      "cell_type": "markdown",
      "id": "779e3387",
      "metadata": {
        "id": "779e3387",
        "papermill": {
          "duration": 0.03243,
          "end_time": "2023-11-07T23:40:13.245472",
          "exception": false,
          "start_time": "2023-11-07T23:40:13.213042",
          "status": "completed"
        },
        "tags": []
      },
      "source": [
        "We load the library to create the pre trained model from HuggingFace to create the embeddings from sentences.\n"
      ]
    },
    {
      "cell_type": "code",
      "execution_count": 16,
      "id": "7fa973ac",
      "metadata": {
        "colab": {
          "base_uri": "https://localhost:8080/"
        },
        "execution": {
          "iopub.execute_input": "2023-11-07T23:40:13.31152Z",
          "iopub.status.busy": "2023-11-07T23:40:13.310846Z",
          "iopub.status.idle": "2023-11-07T23:40:31.996557Z",
          "shell.execute_reply": "2023-11-07T23:40:31.995022Z"
        },
        "id": "7fa973ac",
        "outputId": "0898af45-3e70-47cb-cd07-859afbe1d043",
        "papermill": {
          "duration": 18.721786,
          "end_time": "2023-11-07T23:40:31.999291",
          "exception": false,
          "start_time": "2023-11-07T23:40:13.277505",
          "status": "completed"
        },
        "scrolled": true,
        "tags": []
      },
      "outputs": [
        {
          "name": "stderr",
          "output_type": "stream",
          "text": [
            "/Users/ebengunadi/anaconda3/envs/grids-resume/lib/python3.9/site-packages/tqdm/auto.py:21: TqdmWarning: IProgress not found. Please update jupyter and ipywidgets. See https://ipywidgets.readthedocs.io/en/stable/user_install.html\n",
            "  from .autonotebook import tqdm as notebook_tqdm\n",
            "Xet Storage is enabled for this repo, but the 'hf_xet' package is not installed. Falling back to regular HTTP download. For better performance, install the package with: `pip install huggingface_hub[hf_xet]` or `pip install hf_xet`\n"
          ]
        }
      ],
      "source": [
        "from langchain.embeddings.sentence_transformer import SentenceTransformerEmbeddings\n",
        "embedding_function = SentenceTransformerEmbeddings(model_name=\"all-MiniLM-L6-v2\")"
      ]
    },
    {
      "cell_type": "markdown",
      "id": "ea58c45e",
      "metadata": {
        "id": "ea58c45e",
        "papermill": {
          "duration": 0.034795,
          "end_time": "2023-11-07T23:40:32.069162",
          "exception": false,
          "start_time": "2023-11-07T23:40:32.034367",
          "status": "completed"
        },
        "tags": []
      },
      "source": [
        "# Creating the Index With Chroma\n",
        "Here we are creating the index of embeddings. Using the document, and the embedding function created above."
      ]
    },
    {
      "cell_type": "code",
      "execution_count": 17,
      "id": "eadc6d53",
      "metadata": {
        "execution": {
          "iopub.execute_input": "2023-11-07T23:40:32.142168Z",
          "iopub.status.busy": "2023-11-07T23:40:32.140958Z",
          "iopub.status.idle": "2023-11-07T23:40:40.614344Z",
          "shell.execute_reply": "2023-11-07T23:40:40.613017Z"
        },
        "id": "eadc6d53",
        "papermill": {
          "duration": 8.512528,
          "end_time": "2023-11-07T23:40:40.616895",
          "exception": false,
          "start_time": "2023-11-07T23:40:32.104367",
          "status": "completed"
        },
        "tags": []
      },
      "outputs": [],
      "source": [
        "directory_cdb = './chromadb'\n",
        "chroma_db = Chroma.from_documents(\n",
        "    texts, # using the entire df_document is too slow\n",
        "    embedding_function, \n",
        "    persist_directory=directory_cdb\n",
        ")"
      ]
    },
    {
      "cell_type": "markdown",
      "id": "708820c5",
      "metadata": {
        "id": "708820c5",
        "papermill": {
          "duration": 0.034723,
          "end_time": "2023-11-07T23:40:40.687547",
          "exception": false,
          "start_time": "2023-11-07T23:40:40.652824",
          "status": "completed"
        },
        "tags": []
      },
      "source": [
        "## LANGCHAIN\n",
        "\n",
        "### Using the new LCEL Architecture from LangChain.\n",
        "LangChain recommends using LCEL (LangChain Expression Language) over Chains. "
      ]
    },
    {
      "cell_type": "code",
      "execution_count": 18,
      "id": "ae871f01",
      "metadata": {
        "execution": {
          "iopub.execute_input": "2023-11-07T23:40:40.762362Z",
          "iopub.status.busy": "2023-11-07T23:40:40.761944Z",
          "iopub.status.idle": "2023-11-07T23:40:42.256159Z",
          "shell.execute_reply": "2023-11-07T23:40:42.254902Z"
        },
        "id": "ae871f01",
        "papermill": {
          "duration": 1.534176,
          "end_time": "2023-11-07T23:40:42.258996",
          "exception": false,
          "start_time": "2023-11-07T23:40:40.72482",
          "status": "completed"
        },
        "tags": []
      },
      "outputs": [],
      "source": [
        "from langchain.llms import HuggingFacePipeline\n",
        "from langchain_core.prompts import ChatPromptTemplate\n",
        "from langchain_core.runnables import RunnablePassthrough\n",
        "from langchain_core.output_parsers import StrOutputParser"
      ]
    },
    {
      "cell_type": "markdown",
      "id": "da545337",
      "metadata": {
        "id": "da545337",
        "papermill": {
          "duration": 0.035218,
          "end_time": "2023-11-07T23:40:42.330255",
          "exception": false,
          "start_time": "2023-11-07T23:40:42.295037",
          "status": "completed"
        },
        "tags": []
      },
      "source": [
        "Now we create the retriever object, the responsible to return the data contained in the ChromaDB Database."
      ]
    },
    {
      "cell_type": "code",
      "execution_count": 19,
      "id": "a8478f13",
      "metadata": {
        "execution": {
          "iopub.execute_input": "2023-11-07T23:40:42.40325Z",
          "iopub.status.busy": "2023-11-07T23:40:42.402545Z",
          "iopub.status.idle": "2023-11-07T23:40:42.408031Z",
          "shell.execute_reply": "2023-11-07T23:40:42.406852Z"
        },
        "id": "a8478f13",
        "papermill": {
          "duration": 0.04437,
          "end_time": "2023-11-07T23:40:42.410217",
          "exception": false,
          "start_time": "2023-11-07T23:40:42.365847",
          "status": "completed"
        },
        "tags": []
      },
      "outputs": [],
      "source": [
        "retriever = chroma_db.as_retriever()"
      ]
    },
    {
      "cell_type": "code",
      "execution_count": 20,
      "id": "e2267b3d",
      "metadata": {},
      "outputs": [
        {
          "name": "stderr",
          "output_type": "stream",
          "text": [
            "huggingface/tokenizers: The current process just got forked, after parallelism has already been used. Disabling parallelism to avoid deadlocks...\n",
            "To disable this warning, you can either:\n",
            "\t- Avoid using `tokenizers` before the fork if possible\n",
            "\t- Explicitly set the environment variable TOKENIZERS_PARALLELISM=(true | false)\n"
          ]
        },
        {
          "name": "stdout",
          "output_type": "stream",
          "text": [
            "Collecting huggingface_hub==0.23.0\n",
            "  Using cached huggingface_hub-0.23.0-py3-none-any.whl.metadata (12 kB)\n",
            "Requirement already satisfied: filelock in /Users/ebengunadi/anaconda3/envs/grids-resume/lib/python3.9/site-packages (from huggingface_hub==0.23.0) (3.17.0)\n",
            "Requirement already satisfied: fsspec>=2023.5.0 in /Users/ebengunadi/anaconda3/envs/grids-resume/lib/python3.9/site-packages (from huggingface_hub==0.23.0) (2024.10.0)\n",
            "Requirement already satisfied: packaging>=20.9 in /Users/ebengunadi/anaconda3/envs/grids-resume/lib/python3.9/site-packages (from huggingface_hub==0.23.0) (23.2)\n",
            "Requirement already satisfied: pyyaml>=5.1 in /Users/ebengunadi/anaconda3/envs/grids-resume/lib/python3.9/site-packages (from huggingface_hub==0.23.0) (6.0.2)\n",
            "Requirement already satisfied: requests in /Users/ebengunadi/anaconda3/envs/grids-resume/lib/python3.9/site-packages (from huggingface_hub==0.23.0) (2.32.3)\n",
            "Requirement already satisfied: tqdm>=4.42.1 in /Users/ebengunadi/anaconda3/envs/grids-resume/lib/python3.9/site-packages (from huggingface_hub==0.23.0) (4.67.0)\n",
            "Requirement already satisfied: typing-extensions>=3.7.4.3 in /Users/ebengunadi/anaconda3/envs/grids-resume/lib/python3.9/site-packages (from huggingface_hub==0.23.0) (4.12.2)\n",
            "Requirement already satisfied: charset-normalizer<4,>=2 in /Users/ebengunadi/anaconda3/envs/grids-resume/lib/python3.9/site-packages (from requests->huggingface_hub==0.23.0) (3.4.0)\n",
            "Requirement already satisfied: idna<4,>=2.5 in /Users/ebengunadi/anaconda3/envs/grids-resume/lib/python3.9/site-packages (from requests->huggingface_hub==0.23.0) (3.10)\n",
            "Requirement already satisfied: urllib3<3,>=1.21.1 in /Users/ebengunadi/anaconda3/envs/grids-resume/lib/python3.9/site-packages (from requests->huggingface_hub==0.23.0) (2.3.0)\n",
            "Requirement already satisfied: certifi>=2017.4.17 in /Users/ebengunadi/anaconda3/envs/grids-resume/lib/python3.9/site-packages (from requests->huggingface_hub==0.23.0) (2024.12.14)\n",
            "Using cached huggingface_hub-0.23.0-py3-none-any.whl (401 kB)\n",
            "Installing collected packages: huggingface_hub\n",
            "  Attempting uninstall: huggingface_hub\n",
            "    Found existing installation: huggingface-hub 0.30.1\n",
            "    Uninstalling huggingface-hub-0.30.1:\n",
            "      Successfully uninstalled huggingface-hub-0.30.1\n",
            "\u001b[31mERROR: pip's dependency resolver does not currently take into account all the packages that are installed. This behaviour is the source of the following dependency conflicts.\n",
            "transformers 4.51.0 requires huggingface-hub<1.0,>=0.30.0, but you have huggingface-hub 0.23.0 which is incompatible.\u001b[0m\u001b[31m\n",
            "\u001b[0mSuccessfully installed huggingface_hub-0.23.0\n"
          ]
        }
      ],
      "source": [
        "!pip install huggingface_hub==0.23.0"
      ]
    },
    {
      "cell_type": "code",
      "execution_count": 21,
      "id": "5ff88979",
      "metadata": {},
      "outputs": [],
      "source": [
        "from getpass import getpass\n",
        "hf_key = getpass(\"Hugging Face Key: \")"
      ]
    },
    {
      "cell_type": "code",
      "execution_count": 22,
      "id": "9f827ec2",
      "metadata": {},
      "outputs": [
        {
          "name": "stderr",
          "output_type": "stream",
          "text": [
            "huggingface/tokenizers: The current process just got forked, after parallelism has already been used. Disabling parallelism to avoid deadlocks...\n",
            "To disable this warning, you can either:\n",
            "\t- Avoid using `tokenizers` before the fork if possible\n",
            "\t- Explicitly set the environment variable TOKENIZERS_PARALLELISM=(true | false)\n"
          ]
        },
        {
          "name": "stdout",
          "output_type": "stream",
          "text": [
            "The token has not been saved to the git credentials helper. Pass `add_to_git_credential=True` in this function directly or `--add-to-git-credential` if using via `huggingface-cli` if you want to set the git credential as well.\n",
            "Token is valid (permission: read).\n",
            "Your token has been saved to /Users/ebengunadi/.cache/huggingface/token\n",
            "Login successful\n"
          ]
        }
      ],
      "source": [
        "!huggingface-cli login --token $hf_key"
      ]
    },
    {
      "cell_type": "markdown",
      "id": "b5f095bb",
      "metadata": {},
      "source": [
        "## Importing LangChain Libraries."
      ]
    },
    {
      "cell_type": "code",
      "execution_count": 23,
      "id": "f9b732b9",
      "metadata": {},
      "outputs": [],
      "source": [
        "from langchain import PromptTemplate\n",
        "from langchain_core.output_parsers import StrOutputParser\n",
        "\n",
        "from langchain.llms import HuggingFacePipeline\n",
        "import transformers\n",
        "from transformers import AutoTokenizer, AutoModelForCausalLM, pipeline"
      ]
    },
    {
      "cell_type": "code",
      "execution_count": 24,
      "id": "b624f8fd",
      "metadata": {},
      "outputs": [],
      "source": [
        "import torch\n",
        "from torch import cuda"
      ]
    },
    {
      "cell_type": "code",
      "execution_count": 27,
      "id": "ebbb77a7",
      "metadata": {},
      "outputs": [],
      "source": [
        "#In a MAC Silicon the device must be 'mps'\n",
        "device = torch.device('mps') #to use with MAC Silicon\n",
        "# device = f'cuda:{cuda.current_device()}' if cuda.is_available() else 'cpu'"
      ]
    },
    {
      "cell_type": "code",
      "execution_count": 28,
      "id": "49fa3289",
      "metadata": {},
      "outputs": [
        {
          "data": {
            "text/plain": [
              "device(type='mps')"
            ]
          },
          "execution_count": 28,
          "metadata": {},
          "output_type": "execute_result"
        }
      ],
      "source": [
        "device"
      ]
    },
    {
      "cell_type": "markdown",
      "id": "30780dc3",
      "metadata": {},
      "source": [
        "##Load the Model ."
      ]
    },
    {
      "cell_type": "code",
      "execution_count": 29,
      "id": "1e0270e7",
      "metadata": {},
      "outputs": [],
      "source": [
        "#You can try with any llama model, but you will need more GPU and memory as you\n",
        "#increase the size of the model.\n",
        "model_id = \"meta-llama/Llama-3.2-3B-Instruct\" "
      ]
    },
    {
      "cell_type": "code",
      "execution_count": 30,
      "id": "0166401b",
      "metadata": {},
      "outputs": [
        {
          "name": "stderr",
          "output_type": "stream",
          "text": [
            "Loading checkpoint shards: 100%|██████████| 2/2 [00:12<00:00,  6.37s/it]\n",
            "WARNING:root:Some parameters are on the meta device device because they were offloaded to the disk.\n"
          ]
        },
        {
          "name": "stdout",
          "output_type": "stream",
          "text": [
            "Model loaded on mps\n",
            "CPU times: user 5 s, sys: 5.43 s, total: 10.4 s\n",
            "Wall time: 13.3 s\n"
          ]
        }
      ],
      "source": [
        "%%time\n",
        "\n",
        "# begin initializing HF items, need auth token for these\n",
        "model_config = transformers.AutoConfig.from_pretrained(\n",
        "    model_id,\n",
        "    token=hf_key\n",
        ")\n",
        "\n",
        "model = AutoModelForCausalLM.from_pretrained(\n",
        "    model_id,\n",
        "    trust_remote_code=True,\n",
        "    config=model_config,\n",
        "    device_map='auto',\n",
        "    token=hf_key\n",
        ")\n",
        "model.eval()\n",
        "print(f\"Model loaded on {device}\")\n"
      ]
    },
    {
      "cell_type": "code",
      "execution_count": 31,
      "id": "40d1d0eb",
      "metadata": {},
      "outputs": [],
      "source": [
        "tokenizer = AutoTokenizer.from_pretrained(model_id,\n",
        "                                          use_aut_token=hf_key)\n"
      ]
    },
    {
      "cell_type": "code",
      "execution_count": 32,
      "id": "3543a5e5",
      "metadata": {},
      "outputs": [
        {
          "name": "stderr",
          "output_type": "stream",
          "text": [
            "Device set to use mps\n"
          ]
        }
      ],
      "source": [
        "pipe = pipeline(\n",
        "    \"text-generation\",\n",
        "    model=model,\n",
        "    tokenizer=tokenizer,\n",
        "    max_new_tokens=128,\n",
        "    temperature=0.1,\n",
        "    #do_sample=False,\n",
        "    top_p=0,\n",
        "    #trust_remote_code=True,\n",
        "    eos_token_id=tokenizer.eos_token_id,\n",
        "    repetition_penalty=1.1,\n",
        "    return_full_text=True,\n",
        "    device_map='auto'\n",
        ")\n",
        "\n",
        "hf_llm = HuggingFacePipeline(pipeline=pipe)"
      ]
    },
    {
      "cell_type": "markdown",
      "id": "c83a8eca",
      "metadata": {
        "id": "c83a8eca",
        "papermill": {
          "duration": 0.0364,
          "end_time": "2023-11-07T23:42:17.696923",
          "exception": false,
          "start_time": "2023-11-07T23:42:17.660523",
          "status": "completed"
        },
        "tags": []
      },
      "source": [
        "## Testing\n",
        "\n",
        "Query documents from Vector DB"
      ]
    },
    {
      "cell_type": "code",
      "execution_count": 46,
      "id": "1f2e8bd9",
      "metadata": {},
      "outputs": [
        {
          "name": "stdout",
          "output_type": "stream",
          "text": [
            "Doc 1:\n",
            "Skills * Programming Languages: Python (pandas, numpy, scipy, scikit-learn, matplotlib), Sql, Java, JavaScript/JQuery. * Machine learning: Regression, SVM, NaÃ¯ve Bayes, KNN, Random Forest, Decision Trees, Boosting techniques, Cluster Analysis, Word Embedding, Sentiment Analysis, Natural Language processing, Dimensionality reduction, Topic Modelling (LDA, NMF), PCA & Neural Nets. * Database Visualizations: Mysql, SqlServer, Cassandra, Hbase, ElasticSearch D3.js, DC.js, Plotly, kibana, matplotlib, ggplot, Tableau. * Others: Regular Expression, HTML, CSS, Angular 6, Logstash, Kafka, Python Flask, Git, Docker, computer vision - Open CV and understanding of Deep learning.Education Details \n",
            "\n",
            "Data Science Assurance Associate \n",
            "\n",
            "Data Science Assurance Associate - Ernst & Young LLP\n",
            "Skill Details \n",
            "JAVASCRIPT- Exprience - 24 months\n",
            "jQuery- Exprience - 24 months\n",
            "Python- Exprience - 24 monthsCompany Details \n",
            "company - Ernst & Young LLP\n",
            "description - Fraud Investigations and Dispute Services   Assurance\n",
            "TECHNOLOGY ASSISTED REVIEW\n",
            "TAR (Technology Assisted Review) assists in accelerating the review process and run analytics and generate reports.\n",
            "* Core member of a team helped in developing automated review platform tool from scratch for assisting E discovery domain, this tool implements predictive coding and topic modelling by automating reviews, resulting in reduced labor costs and time spent during the lawyers review.\n",
            "* Understand the end to end flow of the solution, doing research and development for classification models, predictive analysis and mining of the information present in text data. Worked on analyzing the outputs and precision monitoring for the entire tool.\n",
            "* TAR assists in predictive coding, topic modelling from the evidence by following EY standards. Developed the classifier models in order to identify \"red flags\" and fraud-related issues.\n",
            "\n",
            "Tools & Technologies: Python, scikit-learn, tfidf, word2vec, doc2vec, cosine similarity, NaÃ¯ve Bayes, LDA, NMF for topic modelling, Vader and text blob for sentiment analysis. Matplot lib, Tableau dashboard for reporting.\n",
            "\n",
            "MULTIPLE DATA SCIENCE AND ANALYTIC PROJECTS (USA CLIENTS)\n",
            "TEXT ANALYTICS - MOTOR VEHICLE CUSTOMER REVIEW DATA * Received customer feedback survey data for past one year. Performed sentiment (Positive, Negative & Neutral) and time series analysis on customer comments across all 4 categories.\n",
            "* Created heat map of terms by survey category based on frequency of words * Extracted Positive and Negative words across all the Survey categories and plotted Word cloud.\n",
            "* Created customized tableau dashboards for effective reporting and visualizations.\n",
            "CHATBOT * Developed a user friendly chatbot for one of our Products which handle simple questions about hours of operation, reservation options and so on.\n",
            "\n",
            "Doc 2:\n",
            "Skills * Programming Languages: Python (pandas, numpy, scipy, scikit-learn, matplotlib), Sql, Java, JavaScript/JQuery. * Machine learning: Regression, SVM, NaÃ¯ve Bayes, KNN, Random Forest, Decision Trees, Boosting techniques, Cluster Analysis, Word Embedding, Sentiment Analysis, Natural Language processing, Dimensionality reduction, Topic Modelling (LDA, NMF), PCA & Neural Nets. * Database Visualizations: Mysql, SqlServer, Cassandra, Hbase, ElasticSearch D3.js, DC.js, Plotly, kibana, matplotlib, ggplot, Tableau. * Others: Regular Expression, HTML, CSS, Angular 6, Logstash, Kafka, Python Flask, Git, Docker, computer vision - Open CV and understanding of Deep learning.Education Details \n",
            "\n",
            "Data Science Assurance Associate \n",
            "\n",
            "Data Science Assurance Associate - Ernst & Young LLP\n",
            "Skill Details \n",
            "JAVASCRIPT- Exprience - 24 months\n",
            "jQuery- Exprience - 24 months\n",
            "Python- Exprience - 24 monthsCompany Details \n",
            "company - Ernst & Young LLP\n",
            "description - Fraud Investigations and Dispute Services   Assurance\n",
            "TECHNOLOGY ASSISTED REVIEW\n",
            "TAR (Technology Assisted Review) assists in accelerating the review process and run analytics and generate reports.\n",
            "* Core member of a team helped in developing automated review platform tool from scratch for assisting E discovery domain, this tool implements predictive coding and topic modelling by automating reviews, resulting in reduced labor costs and time spent during the lawyers review.\n",
            "* Understand the end to end flow of the solution, doing research and development for classification models, predictive analysis and mining of the information present in text data. Worked on analyzing the outputs and precision monitoring for the entire tool.\n",
            "* TAR assists in predictive coding, topic modelling from the evidence by following EY standards. Developed the classifier models in order to identify \"red flags\" and fraud-related issues.\n",
            "\n",
            "Tools & Technologies: Python, scikit-learn, tfidf, word2vec, doc2vec, cosine similarity, NaÃ¯ve Bayes, LDA, NMF for topic modelling, Vader and text blob for sentiment analysis. Matplot lib, Tableau dashboard for reporting.\n",
            "\n",
            "MULTIPLE DATA SCIENCE AND ANALYTIC PROJECTS (USA CLIENTS)\n",
            "TEXT ANALYTICS - MOTOR VEHICLE CUSTOMER REVIEW DATA * Received customer feedback survey data for past one year. Performed sentiment (Positive, Negative & Neutral) and time series analysis on customer comments across all 4 categories.\n",
            "* Created heat map of terms by survey category based on frequency of words * Extracted Positive and Negative words across all the Survey categories and plotted Word cloud.\n",
            "* Created customized tableau dashboards for effective reporting and visualizations.\n",
            "CHATBOT * Developed a user friendly chatbot for one of our Products which handle simple questions about hours of operation, reservation options and so on.\n",
            "\n",
            "Doc 3:\n",
            "Skills * Programming Languages: Python (pandas, numpy, scipy, scikit-learn, matplotlib), Sql, Java, JavaScript/JQuery. * Machine learning: Regression, SVM, NaÃ¯ve Bayes, KNN, Random Forest, Decision Trees, Boosting techniques, Cluster Analysis, Word Embedding, Sentiment Analysis, Natural Language processing, Dimensionality reduction, Topic Modelling (LDA, NMF), PCA & Neural Nets. * Database Visualizations: Mysql, SqlServer, Cassandra, Hbase, ElasticSearch D3.js, DC.js, Plotly, kibana, matplotlib, ggplot, Tableau. * Others: Regular Expression, HTML, CSS, Angular 6, Logstash, Kafka, Python Flask, Git, Docker, computer vision - Open CV and understanding of Deep learning.Education Details \n",
            "\n",
            "Data Science Assurance Associate \n",
            "\n",
            "Data Science Assurance Associate - Ernst & Young LLP\n",
            "Skill Details \n",
            "JAVASCRIPT- Exprience - 24 months\n",
            "jQuery- Exprience - 24 months\n",
            "Python- Exprience - 24 monthsCompany Details \n",
            "company - Ernst & Young LLP\n",
            "description - Fraud Investigations and Dispute Services   Assurance\n",
            "TECHNOLOGY ASSISTED REVIEW\n",
            "TAR (Technology Assisted Review) assists in accelerating the review process and run analytics and generate reports.\n",
            "* Core member of a team helped in developing automated review platform tool from scratch for assisting E discovery domain, this tool implements predictive coding and topic modelling by automating reviews, resulting in reduced labor costs and time spent during the lawyers review.\n",
            "* Understand the end to end flow of the solution, doing research and development for classification models, predictive analysis and mining of the information present in text data. Worked on analyzing the outputs and precision monitoring for the entire tool.\n",
            "* TAR assists in predictive coding, topic modelling from the evidence by following EY standards. Developed the classifier models in order to identify \"red flags\" and fraud-related issues.\n",
            "\n",
            "Tools & Technologies: Python, scikit-learn, tfidf, word2vec, doc2vec, cosine similarity, NaÃ¯ve Bayes, LDA, NMF for topic modelling, Vader and text blob for sentiment analysis. Matplot lib, Tableau dashboard for reporting.\n",
            "\n",
            "MULTIPLE DATA SCIENCE AND ANALYTIC PROJECTS (USA CLIENTS)\n",
            "TEXT ANALYTICS - MOTOR VEHICLE CUSTOMER REVIEW DATA * Received customer feedback survey data for past one year. Performed sentiment (Positive, Negative & Neutral) and time series analysis on customer comments across all 4 categories.\n",
            "* Created heat map of terms by survey category based on frequency of words * Extracted Positive and Negative words across all the Survey categories and plotted Word cloud.\n",
            "* Created customized tableau dashboards for effective reporting and visualizations.\n",
            "CHATBOT * Developed a user friendly chatbot for one of our Products which handle simple questions about hours of operation, reservation options and so on.\n",
            "\n",
            "Doc 4:\n",
            "Skills * Programming Languages: Python (pandas, numpy, scipy, scikit-learn, matplotlib), Sql, Java, JavaScript/JQuery. * Machine learning: Regression, SVM, NaÃ¯ve Bayes, KNN, Random Forest, Decision Trees, Boosting techniques, Cluster Analysis, Word Embedding, Sentiment Analysis, Natural Language processing, Dimensionality reduction, Topic Modelling (LDA, NMF), PCA & Neural Nets. * Database Visualizations: Mysql, SqlServer, Cassandra, Hbase, ElasticSearch D3.js, DC.js, Plotly, kibana, matplotlib, ggplot, Tableau. * Others: Regular Expression, HTML, CSS, Angular 6, Logstash, Kafka, Python Flask, Git, Docker, computer vision - Open CV and understanding of Deep learning.Education Details \n",
            "\n",
            "Data Science Assurance Associate \n",
            "\n",
            "Data Science Assurance Associate - Ernst & Young LLP\n",
            "Skill Details \n",
            "JAVASCRIPT- Exprience - 24 months\n",
            "jQuery- Exprience - 24 months\n",
            "Python- Exprience - 24 monthsCompany Details \n",
            "company - Ernst & Young LLP\n",
            "description - Fraud Investigations and Dispute Services   Assurance\n",
            "TECHNOLOGY ASSISTED REVIEW\n",
            "TAR (Technology Assisted Review) assists in accelerating the review process and run analytics and generate reports.\n",
            "* Core member of a team helped in developing automated review platform tool from scratch for assisting E discovery domain, this tool implements predictive coding and topic modelling by automating reviews, resulting in reduced labor costs and time spent during the lawyers review.\n",
            "* Understand the end to end flow of the solution, doing research and development for classification models, predictive analysis and mining of the information present in text data. Worked on analyzing the outputs and precision monitoring for the entire tool.\n",
            "* TAR assists in predictive coding, topic modelling from the evidence by following EY standards. Developed the classifier models in order to identify \"red flags\" and fraud-related issues.\n",
            "\n",
            "Tools & Technologies: Python, scikit-learn, tfidf, word2vec, doc2vec, cosine similarity, NaÃ¯ve Bayes, LDA, NMF for topic modelling, Vader and text blob for sentiment analysis. Matplot lib, Tableau dashboard for reporting.\n",
            "\n",
            "MULTIPLE DATA SCIENCE AND ANALYTIC PROJECTS (USA CLIENTS)\n",
            "TEXT ANALYTICS - MOTOR VEHICLE CUSTOMER REVIEW DATA * Received customer feedback survey data for past one year. Performed sentiment (Positive, Negative & Neutral) and time series analysis on customer comments across all 4 categories.\n",
            "* Created heat map of terms by survey category based on frequency of words * Extracted Positive and Negative words across all the Survey categories and plotted Word cloud.\n",
            "* Created customized tableau dashboards for effective reporting and visualizations.\n",
            "CHATBOT * Developed a user friendly chatbot for one of our Products which handle simple questions about hours of operation, reservation options and so on.\n",
            "\n"
          ]
        }
      ],
      "source": [
        "retrieved_docs = retriever.get_relevant_documents(\"Data Science Skills:\")\n",
        "for i, doc in enumerate(retrieved_docs):\n",
        "    print(f\"Doc {i+1}:\\n{doc.page_content}\\n\")"
      ]
    },
    {
      "cell_type": "markdown",
      "id": "a81a5222",
      "metadata": {},
      "source": [
        "Have LLM generate a summary without RAG"
      ]
    },
    {
      "cell_type": "code",
      "execution_count": 47,
      "id": "31a09784",
      "metadata": {},
      "outputs": [
        {
          "name": "stderr",
          "output_type": "stream",
          "text": [
            "Setting `pad_token_id` to `eos_token_id`:128009 for open-end generation.\n"
          ]
        },
        {
          "name": "stdout",
          "output_type": "stream",
          "text": [
            " A Comprehensive Guide\n",
            "Data science is a multidisciplinary field that combines statistics, computer science, and domain-specific knowledge to extract insights from data. To become proficient in data science, you need to develop a range of skills across various domains. Here's a comprehensive guide to help you get started:\n",
            "\n",
            "**Foundational Skills**\n",
            "\n",
            "1. **Programming**: Python, R, SQL, and Julia are popular programming languages used in data science.\n",
            "2. **Statistics**: Understand probability, regression analysis, hypothesis testing, and statistical modeling.\n",
            "3. **Mathematics**: Familiarize yourself with linear algebra, calculus, and optimization techniques.\n",
            "\n",
            "**Data Analysis and\n",
            "CPU times: user 7.74 s, sys: 22.3 s, total: 30.1 s\n",
            "Wall time: 49 s\n"
          ]
        }
      ],
      "source": [
        "%%time\n",
        "response = hf_llm(\"Data Science Skills:\")\n",
        "print(response)"
      ]
    },
    {
      "cell_type": "code",
      "execution_count": 48,
      "id": "941c2b12",
      "metadata": {},
      "outputs": [
        {
          "name": "stderr",
          "output_type": "stream",
          "text": [
            "Setting `pad_token_id` to `eos_token_id`:128009 for open-end generation.\n"
          ]
        },
        {
          "name": "stdout",
          "output_type": "stream",
          "text": [
            " What is your experience with machine learning algorithms? \n",
            "\n",
            "Answer: I have extensive experience with various machine learning algorithms including regression, SVM, Naive Bayes, KNN, Random Forest, Decision Trees, Boosting techniques, Cluster Analysis, Word Embedding, Sentiment Analysis, Natural Language Processing, Dimensionality Reduction, Topic Modeling (LDA, NMF), PCA, and Neural Networks.\n",
            "CPU times: user 9.42 s, sys: 16.8 s, total: 26.2 s\n",
            "Wall time: 57.3 s\n"
          ]
        }
      ],
      "source": [
        "%%time\n",
        "\n",
        "# Function to clean and format retrieved documents\n",
        "def format_docs(docs):\n",
        "    return \"\\n\\n\".join([doc.page_content.strip() for doc in docs])\n",
        "\n",
        "# Update the LCEL chain\n",
        "chain = (\n",
        "    {\"context\": retriever | format_docs, \"question\": RunnablePassthrough()}  # Apply formatting\n",
        "    | ChatPromptTemplate.from_template(\n",
        "        \"Answer the question based on the following context:\\n{context}\\n\\nQuestion: {question}\"\n",
        "    )\n",
        "    | hf_llm\n",
        "    | StrOutputParser()\n",
        ")\n",
        "\n",
        "response = chain.invoke(\"Data Science Skills:\")\n",
        "print(response)"
      ]
    }
  ],
  "metadata": {
    "colab": {
      "machine_shape": "hm",
      "provenance": []
    },
    "kernelspec": {
      "display_name": "grids-resume",
      "language": "python",
      "name": "python3"
    },
    "language_info": {
      "codemirror_mode": {
        "name": "ipython",
        "version": 3
      },
      "file_extension": ".py",
      "mimetype": "text/x-python",
      "name": "python",
      "nbconvert_exporter": "python",
      "pygments_lexer": "ipython3",
      "version": "3.9.20"
    },
    "papermill": {
      "default_parameters": {},
      "duration": 301.368093,
      "end_time": "2023-11-07T23:43:39.05917",
      "environment_variables": {},
      "exception": null,
      "input_path": "__notebook__.ipynb",
      "output_path": "__notebook__.ipynb",
      "parameters": {},
      "start_time": "2023-11-07T23:38:37.691077",
      "version": "2.4.0"
    }
  },
  "nbformat": 4,
  "nbformat_minor": 5
}
