{
  "cells": [
    {
      "cell_type": "markdown",
      "id": "f407d757",
      "metadata": {
        "id": "f407d757",
        "papermill": {
          "duration": 0.022555,
          "end_time": "2023-11-07T23:40:10.609309",
          "exception": false,
          "start_time": "2023-11-07T23:40:10.586754",
          "status": "completed"
        },
        "tags": []
      },
      "source": [
        "# Load the Dataset"
      ]
    },
    {
      "cell_type": "code",
      "execution_count": 1,
      "id": "09ea9d7c",
      "metadata": {
        "execution": {
          "iopub.execute_input": "2023-11-07T23:40:10.558175Z",
          "iopub.status.busy": "2023-11-07T23:40:10.55769Z",
          "iopub.status.idle": "2023-11-07T23:40:10.562952Z",
          "shell.execute_reply": "2023-11-07T23:40:10.561864Z"
        },
        "id": "09ea9d7c",
        "papermill": {
          "duration": 0.030688,
          "end_time": "2023-11-07T23:40:10.565135",
          "exception": false,
          "start_time": "2023-11-07T23:40:10.534447",
          "status": "completed"
        },
        "tags": []
      },
      "outputs": [],
      "source": [
        "import pdfplumber\n",
        "import glob\n",
        "import json\n",
        "import re"
      ]
    },
    {
      "cell_type": "code",
      "execution_count": 2,
      "id": "9a0d6cdc",
      "metadata": {},
      "outputs": [
        {
          "data": {
            "text/plain": [
              "['../data/INFORMATION-TECHNOLOGY/18176523.pdf',\n",
              " '../data/INFORMATION-TECHNOLOGY/25857360.pdf',\n",
              " '../data/INFORMATION-TECHNOLOGY/39718499.pdf',\n",
              " '../data/INFORMATION-TECHNOLOGY/40018190.pdf',\n",
              " '../data/INFORMATION-TECHNOLOGY/31243710.pdf',\n",
              " '../data/INFORMATION-TECHNOLOGY/25990239.pdf',\n",
              " '../data/INFORMATION-TECHNOLOGY/52246737.pdf',\n",
              " '../data/INFORMATION-TECHNOLOGY/19201175.pdf',\n",
              " '../data/INFORMATION-TECHNOLOGY/36434348.pdf',\n",
              " '../data/INFORMATION-TECHNOLOGY/25207620.pdf',\n",
              " '../data/INFORMATION-TECHNOLOGY/12635195.pdf',\n",
              " '../data/INFORMATION-TECHNOLOGY/26746496.pdf',\n",
              " '../data/INFORMATION-TECHNOLOGY/23666211.pdf',\n",
              " '../data/INFORMATION-TECHNOLOGY/24038620.pdf',\n",
              " '../data/INFORMATION-TECHNOLOGY/29051656.pdf',\n",
              " '../data/INFORMATION-TECHNOLOGY/33381211.pdf',\n",
              " '../data/INFORMATION-TECHNOLOGY/10840430.pdf',\n",
              " '../data/INFORMATION-TECHNOLOGY/28697203.pdf',\n",
              " '../data/INFORMATION-TECHNOLOGY/38753827.pdf',\n",
              " '../data/INFORMATION-TECHNOLOGY/27372171.pdf',\n",
              " '../data/INFORMATION-TECHNOLOGY/24889109.pdf',\n",
              " '../data/INFORMATION-TECHNOLOGY/15802627.pdf',\n",
              " '../data/INFORMATION-TECHNOLOGY/41344156.pdf',\n",
              " '../data/INFORMATION-TECHNOLOGY/21283365.pdf',\n",
              " '../data/INFORMATION-TECHNOLOGY/19796840.pdf',\n",
              " '../data/INFORMATION-TECHNOLOGY/20001721.pdf',\n",
              " '../data/INFORMATION-TECHNOLOGY/10247517.pdf',\n",
              " '../data/INFORMATION-TECHNOLOGY/13385306.pdf',\n",
              " '../data/INFORMATION-TECHNOLOGY/20674668.pdf',\n",
              " '../data/INFORMATION-TECHNOLOGY/24230851.pdf',\n",
              " '../data/INFORMATION-TECHNOLOGY/33241454.pdf',\n",
              " '../data/INFORMATION-TECHNOLOGY/22450718.pdf',\n",
              " '../data/INFORMATION-TECHNOLOGY/26768723.pdf',\n",
              " '../data/INFORMATION-TECHNOLOGY/35325329.pdf',\n",
              " '../data/INFORMATION-TECHNOLOGY/39413067.pdf',\n",
              " '../data/INFORMATION-TECHNOLOGY/12334140.pdf',\n",
              " '../data/INFORMATION-TECHNOLOGY/12045067.pdf',\n",
              " '../data/INFORMATION-TECHNOLOGY/83816738.pdf',\n",
              " '../data/INFORMATION-TECHNOLOGY/27295996.pdf',\n",
              " '../data/INFORMATION-TECHNOLOGY/28035460.pdf',\n",
              " '../data/INFORMATION-TECHNOLOGY/81761658.pdf',\n",
              " '../data/INFORMATION-TECHNOLOGY/23527321.pdf',\n",
              " '../data/INFORMATION-TECHNOLOGY/10641230.pdf',\n",
              " '../data/INFORMATION-TECHNOLOGY/17681064.pdf',\n",
              " '../data/INFORMATION-TECHNOLOGY/27770859.pdf',\n",
              " '../data/INFORMATION-TECHNOLOGY/51639418.pdf',\n",
              " '../data/INFORMATION-TECHNOLOGY/11584809.pdf',\n",
              " '../data/INFORMATION-TECHNOLOGY/27058381.pdf',\n",
              " '../data/INFORMATION-TECHNOLOGY/37764298.pdf',\n",
              " '../data/INFORMATION-TECHNOLOGY/15297298.pdf',\n",
              " '../data/INFORMATION-TECHNOLOGY/25959103.pdf',\n",
              " '../data/INFORMATION-TECHNOLOGY/46260230.pdf',\n",
              " '../data/INFORMATION-TECHNOLOGY/27485716.pdf',\n",
              " '../data/INFORMATION-TECHNOLOGY/16899268.pdf',\n",
              " '../data/INFORMATION-TECHNOLOGY/18301617.pdf',\n",
              " '../data/INFORMATION-TECHNOLOGY/17987433.pdf',\n",
              " '../data/INFORMATION-TECHNOLOGY/26801767.pdf',\n",
              " '../data/INFORMATION-TECHNOLOGY/16533554.pdf',\n",
              " '../data/INFORMATION-TECHNOLOGY/32959732.pdf',\n",
              " '../data/INFORMATION-TECHNOLOGY/28126340.pdf',\n",
              " '../data/INFORMATION-TECHNOLOGY/15118506.pdf',\n",
              " '../data/INFORMATION-TECHNOLOGY/89413122.pdf',\n",
              " '../data/INFORMATION-TECHNOLOGY/64017585.pdf',\n",
              " '../data/INFORMATION-TECHNOLOGY/66832845.pdf',\n",
              " '../data/INFORMATION-TECHNOLOGY/26480367.pdf',\n",
              " '../data/INFORMATION-TECHNOLOGY/20408458.pdf',\n",
              " '../data/INFORMATION-TECHNOLOGY/24913648.pdf',\n",
              " '../data/INFORMATION-TECHNOLOGY/13477922.pdf',\n",
              " '../data/INFORMATION-TECHNOLOGY/18752129.pdf',\n",
              " '../data/INFORMATION-TECHNOLOGY/91121135.pdf',\n",
              " '../data/INFORMATION-TECHNOLOGY/15791766.pdf',\n",
              " '../data/INFORMATION-TECHNOLOGY/17641670.pdf',\n",
              " '../data/INFORMATION-TECHNOLOGY/31111279.pdf',\n",
              " '../data/INFORMATION-TECHNOLOGY/91697974.pdf',\n",
              " '../data/INFORMATION-TECHNOLOGY/79541391.pdf',\n",
              " '../data/INFORMATION-TECHNOLOGY/25905275.pdf',\n",
              " '../data/INFORMATION-TECHNOLOGY/91635250.pdf',\n",
              " '../data/INFORMATION-TECHNOLOGY/68460556.pdf',\n",
              " '../data/INFORMATION-TECHNOLOGY/20824105.pdf',\n",
              " '../data/INFORMATION-TECHNOLOGY/10089434.pdf',\n",
              " '../data/INFORMATION-TECHNOLOGY/24083609.pdf',\n",
              " '../data/INFORMATION-TECHNOLOGY/28672970.pdf',\n",
              " '../data/INFORMATION-TECHNOLOGY/12763627.pdf',\n",
              " '../data/INFORMATION-TECHNOLOGY/92069209.pdf',\n",
              " '../data/INFORMATION-TECHNOLOGY/17111768.pdf',\n",
              " '../data/INFORMATION-TECHNOLOGY/29975124.pdf',\n",
              " '../data/INFORMATION-TECHNOLOGY/52618188.pdf',\n",
              " '../data/INFORMATION-TECHNOLOGY/18187364.pdf',\n",
              " '../data/INFORMATION-TECHNOLOGY/90867631.pdf',\n",
              " '../data/INFORMATION-TECHNOLOGY/70089206.pdf',\n",
              " '../data/INFORMATION-TECHNOLOGY/23864648.pdf',\n",
              " '../data/INFORMATION-TECHNOLOGY/13836471.pdf',\n",
              " '../data/INFORMATION-TECHNOLOGY/30223363.pdf',\n",
              " '../data/INFORMATION-TECHNOLOGY/11580408.pdf',\n",
              " '../data/INFORMATION-TECHNOLOGY/36856210.pdf',\n",
              " '../data/INFORMATION-TECHNOLOGY/48037995.pdf',\n",
              " '../data/INFORMATION-TECHNOLOGY/19850482.pdf',\n",
              " '../data/INFORMATION-TECHNOLOGY/17688766.pdf',\n",
              " '../data/INFORMATION-TECHNOLOGY/20024870.pdf',\n",
              " '../data/INFORMATION-TECHNOLOGY/18159866.pdf',\n",
              " '../data/INFORMATION-TECHNOLOGY/11957080.pdf',\n",
              " '../data/INFORMATION-TECHNOLOGY/20879311.pdf',\n",
              " '../data/INFORMATION-TECHNOLOGY/16186411.pdf',\n",
              " '../data/INFORMATION-TECHNOLOGY/51363762.pdf',\n",
              " '../data/INFORMATION-TECHNOLOGY/10553553.pdf',\n",
              " '../data/INFORMATION-TECHNOLOGY/37242217.pdf',\n",
              " '../data/INFORMATION-TECHNOLOGY/10265057.pdf',\n",
              " '../data/INFORMATION-TECHNOLOGY/57002858.pdf',\n",
              " '../data/INFORMATION-TECHNOLOGY/10839851.pdf',\n",
              " '../data/INFORMATION-TECHNOLOGY/21780877.pdf',\n",
              " '../data/INFORMATION-TECHNOLOGY/18067556.pdf',\n",
              " '../data/INFORMATION-TECHNOLOGY/20237244.pdf',\n",
              " '../data/INFORMATION-TECHNOLOGY/22776912.pdf',\n",
              " '../data/INFORMATION-TECHNOLOGY/14789139.pdf',\n",
              " '../data/INFORMATION-TECHNOLOGY/15651486.pdf',\n",
              " '../data/INFORMATION-TECHNOLOGY/27536013.pdf',\n",
              " '../data/INFORMATION-TECHNOLOGY/29075857.pdf',\n",
              " '../data/INFORMATION-TECHNOLOGY/24020470.pdf',\n",
              " '../data/INFORMATION-TECHNOLOGY/13405733.pdf',\n",
              " '../data/INFORMATION-TECHNOLOGY/28897981.pdf']"
            ]
          },
          "execution_count": 2,
          "metadata": {},
          "output_type": "execute_result"
        }
      ],
      "source": [
        "pdf_resume_path = '../data/INFORMATION-TECHNOLOGY'\n",
        "pdf_resume_files = glob.glob(f'{pdf_resume_path}/*.pdf')\n",
        "\n",
        "pdf_resume_files"
      ]
    },
    {
      "cell_type": "code",
      "execution_count": 3,
      "id": "a39dfc3b",
      "metadata": {},
      "outputs": [
        {
          "name": "stdout",
          "output_type": "stream",
          "text": [
            "INFORMATION TECHNOLOGY SUPERVISOR\n",
            "Summary\n",
            "Seeking a position as an Information Technology Specialist. Over 5 years of information technology experience in the U.S. Army, including over 1\n",
            "year of supervisory experience. Trained personnel in the set-up of IT equipment, ensuring all equipment is properly connected and functioning.\n",
            "Regularly troubleshoot and install various IT equipment and systems. Accountable for the maintenance and inventory of over $1 million worth of IT\n",
            "and other communications equipment with zero losses or damages. Possess a Security and Microsoft Certification and a Secret Security\n",
            "Clearance.\n",
            "Highlights\n",
            "Excellent communication techniques\n",
            "Complex problem solver\n",
            "Manufacturing systems integration\n",
            "Advanced critical thinking\n",
            "Multidisciplinary exposure\n",
            "SharePoint\n",
            "Design instruction creation\n",
            "Microsoft Excel, Project and Visio\n",
            "Project management\n",
            "Accomplishments\n",
            "Army Achievement Medal for impacting the communications network and overall success of Key Resolve 13 in Yong San, Korea. Air Force\n",
            "Achievement Medal for supporting Operation Iraqi Freedom and performing as an outstanding senior controller. Certificate of Achievement for\n",
            "outstanding support as a member of the Tiger Team during the Windows 7 Migration. Good Conduct Medal for exemplary behavior, efficiency\n",
            "and fidelity in active federal military service.\n",
            "Experience\n",
            "Information Technology Supervisor 01/2011 to 05/2014 Company Name City , State\n",
            "Supervise up to 10 personnel at one time, delegating tasks, conducting performance evaluations and providing corrective counseling as\n",
            "necessary.\n",
            "Train personnel in the set-up and proper use of IT related equipment while adhering to all policies and procedures.\n",
            "Responsible for the inventory of over $1 million worth of network communications equipment.\n",
            "Tasked by President of the United States to act as supervisor and maintain signal communications for Fort Bragg army base.\n",
            "Information Technology Technician 01/2009 to 01/2011 Company Name City , State\n",
            "Maintained communications equipment in order to effectively relay confidential and secret information.\n",
            "Utilized electronic test equipment to troubleshoot malfunctioning communications equipment and complete repairs as necessary.\n",
            "Regularly set up and added computer systems to a communication network, installing operation systems, accessing stored programs and\n",
            "utilizing IP addresses.\n",
            "Received training in LAN/WAN protocols.\n",
            "Radiology Technologist 05/2008 to 09/2008 Company Name City , State\n",
            "Routinely performed radiological examinations in a medical clinic.\n",
            "Competent and experienced in the set-up and adjustment of medical devices or equipment.\n",
            "Regularly provided customer assistance, ensuring all patients received timely and accurate care.\n",
            "Accountable for the accurate documentation via electronic database and file system ensuring all confidentiality was maintained.\n",
            "Command Post Controller 10/2001 to 10/2005 Company Name City , State\n",
            "Provided command, control, communications, and information support throughout operations during peacetime, emergency, and disaster\n",
            "situations.\n",
            "Received and relayed instructions and records, submitting manual and automated data products.\n",
            "Disseminated time-sensitive critical information to senior leaders and support agencies.\n",
            "Education\n",
            "Certification, Windows 7, Microsoft, Fort Bragg, NC, 2012\n",
            "*Certification, Security , Comptia, Yong San, Korea, 2012\n",
            "*Distinguished Graduate Certificate, Information Technology (Network Communications) Course 2009 U.S. Army City , State\n",
            "Certificate, IT Network and Cisco Routing, IT Field Services Branch 2009 City , State\n",
            "Associate of Science : Radiography 2008 Northwest Florida State College City , State Radiography\n",
            "Certificate 2001 IT Tech Prep, Trumbull Career and Technical Center State\n",
            "Diploma 2001 Warren G. Harding City , State\n",
            "Skills\n",
            "Army, Cisco, counseling, customer assistance, database, documentation, Information Technology, inventory, IP, LAN, Windows 7, Network,\n",
            "personnel, policies, protocols, repairs, Routing, San, supervisor, test equipment, troubleshoot, WAN\n",
            "\n"
          ]
        }
      ],
      "source": [
        "# use 33241454.pdf as an example\n",
        "\n",
        "pdf_33241454_path = '../data/INFORMATION-TECHNOLOGY/33241454.pdf'\n",
        "\n",
        "pdf_33241454_text = ''\n",
        "with pdfplumber.open(pdf_33241454_path) as pdf:\n",
        "    for page in pdf.pages:\n",
        "        page_text = page.extract_text()\n",
        "        if page_text:\n",
        "            pdf_33241454_text += page_text + '\\n'\n",
        "\n",
        "print(pdf_33241454_text)"
      ]
    },
    {
      "cell_type": "markdown",
      "id": "708820c5",
      "metadata": {
        "id": "708820c5",
        "papermill": {
          "duration": 0.034723,
          "end_time": "2023-11-07T23:40:40.687547",
          "exception": false,
          "start_time": "2023-11-07T23:40:40.652824",
          "status": "completed"
        },
        "tags": []
      },
      "source": [
        "## LANGCHAIN\n",
        "\n",
        "### Using the new LCEL Architecture from LangChain.\n",
        "LangChain recommends using LCEL (LangChain Expression Language) over Chains. "
      ]
    },
    {
      "cell_type": "markdown",
      "id": "da545337",
      "metadata": {
        "id": "da545337",
        "papermill": {
          "duration": 0.035218,
          "end_time": "2023-11-07T23:40:42.330255",
          "exception": false,
          "start_time": "2023-11-07T23:40:42.295037",
          "status": "completed"
        },
        "tags": []
      },
      "source": [
        "Now we create the retriever object, the responsible to return the data contained in the ChromaDB Database."
      ]
    },
    {
      "cell_type": "code",
      "execution_count": 4,
      "id": "e2267b3d",
      "metadata": {},
      "outputs": [],
      "source": [
        "# !pip install huggingface_hub==0.26.0"
      ]
    },
    {
      "cell_type": "code",
      "execution_count": 5,
      "id": "ea8a3dcf",
      "metadata": {},
      "outputs": [],
      "source": [
        "# !pip install --upgrade huggingface_hub"
      ]
    },
    {
      "cell_type": "code",
      "execution_count": 6,
      "id": "5ff88979",
      "metadata": {},
      "outputs": [],
      "source": [
        "from getpass import getpass\n",
        "hf_key = getpass(\"Hugging Face Key: \")"
      ]
    },
    {
      "cell_type": "code",
      "execution_count": 7,
      "id": "9f827ec2",
      "metadata": {},
      "outputs": [
        {
          "name": "stdout",
          "output_type": "stream",
          "text": [
            "The token has not been saved to the git credentials helper. Pass `add_to_git_credential=True` in this function directly or `--add-to-git-credential` if using via `huggingface-cli` if you want to set the git credential as well.\n",
            "Token is valid (permission: read).\n",
            "The token `langchain` has been saved to /Users/ebengunadi/.cache/huggingface/stored_tokens\n",
            "Your token has been saved to /Users/ebengunadi/.cache/huggingface/token\n",
            "Login successful.\n",
            "The current active token is: `langchain`\n"
          ]
        }
      ],
      "source": [
        "!huggingface-cli login --token $hf_key"
      ]
    },
    {
      "cell_type": "markdown",
      "id": "b5f095bb",
      "metadata": {},
      "source": [
        "## Importing LangChain Libraries."
      ]
    },
    {
      "cell_type": "code",
      "execution_count": 8,
      "id": "1b24397a",
      "metadata": {},
      "outputs": [],
      "source": [
        "from langchain.llms import HuggingFacePipeline\n",
        "from langchain_core.prompts import ChatPromptTemplate\n",
        "from langchain_core.runnables import RunnablePassthrough\n",
        "from langchain_core.output_parsers import StrOutputParser"
      ]
    },
    {
      "cell_type": "code",
      "execution_count": 9,
      "id": "f9b732b9",
      "metadata": {},
      "outputs": [
        {
          "name": "stderr",
          "output_type": "stream",
          "text": [
            "/Users/ebengunadi/anaconda3/envs/grids-resume/lib/python3.9/site-packages/tqdm/auto.py:21: TqdmWarning: IProgress not found. Please update jupyter and ipywidgets. See https://ipywidgets.readthedocs.io/en/stable/user_install.html\n",
            "  from .autonotebook import tqdm as notebook_tqdm\n"
          ]
        }
      ],
      "source": [
        "from langchain import PromptTemplate\n",
        "from langchain_core.output_parsers import StrOutputParser\n",
        "\n",
        "from langchain.llms import HuggingFacePipeline\n",
        "import transformers\n",
        "from transformers import AutoTokenizer, AutoModelForCausalLM, pipeline"
      ]
    },
    {
      "cell_type": "code",
      "execution_count": 10,
      "id": "b624f8fd",
      "metadata": {},
      "outputs": [],
      "source": [
        "import torch\n",
        "from torch import cuda"
      ]
    },
    {
      "cell_type": "code",
      "execution_count": 11,
      "id": "ebbb77a7",
      "metadata": {},
      "outputs": [],
      "source": [
        "#In a MAC Silicon the device must be 'mps'\n",
        "# device = torch.device('mps') #to use with MAC Silicon\n",
        "device = f'cuda:{cuda.current_device()}' if cuda.is_available() else 'cpu'"
      ]
    },
    {
      "cell_type": "code",
      "execution_count": 12,
      "id": "49fa3289",
      "metadata": {},
      "outputs": [
        {
          "data": {
            "text/plain": [
              "'cpu'"
            ]
          },
          "execution_count": 12,
          "metadata": {},
          "output_type": "execute_result"
        }
      ],
      "source": [
        "device"
      ]
    },
    {
      "cell_type": "markdown",
      "id": "30780dc3",
      "metadata": {},
      "source": [
        "##Load the Model ."
      ]
    },
    {
      "cell_type": "code",
      "execution_count": null,
      "id": "1e0270e7",
      "metadata": {},
      "outputs": [],
      "source": [
        "#You can try with any llama model, but you will need more GPU and memory as you\n",
        "#increase the size of the model.\n",
        "# model_id = \"meta-llama/Llama-3.2-1B-Instruct\" # Agreed per the 3/11/25 meeting, but not powerful enough!\n",
        "model_id = \"meta-llama/Llama-3.2-3B-Instruct\" "
      ]
    },
    {
      "cell_type": "code",
      "execution_count": 14,
      "id": "84a61c23",
      "metadata": {},
      "outputs": [],
      "source": [
        "# !pip install --upgrade transformers "
      ]
    },
    {
      "cell_type": "code",
      "execution_count": 15,
      "id": "78ed5c16",
      "metadata": {},
      "outputs": [],
      "source": [
        "# !pip install accelerate"
      ]
    },
    {
      "cell_type": "code",
      "execution_count": 16,
      "id": "b93478d6",
      "metadata": {},
      "outputs": [],
      "source": [
        "from accelerate import init_empty_weights"
      ]
    },
    {
      "cell_type": "code",
      "execution_count": 17,
      "id": "0166401b",
      "metadata": {},
      "outputs": [
        {
          "name": "stderr",
          "output_type": "stream",
          "text": [
            "Loading checkpoint shards: 100%|██████████| 2/2 [00:12<00:00,  6.32s/it]\n",
            "Some parameters are on the meta device because they were offloaded to the disk.\n"
          ]
        },
        {
          "name": "stdout",
          "output_type": "stream",
          "text": [
            "Model loaded on cpu\n",
            "CPU times: user 4.63 s, sys: 5.1 s, total: 9.73 s\n",
            "Wall time: 13.4 s\n"
          ]
        }
      ],
      "source": [
        "%%time\n",
        "\n",
        "# begin initializing HF items, need auth token for these\n",
        "model_config = transformers.AutoConfig.from_pretrained(\n",
        "    model_id,\n",
        "    token=hf_key\n",
        ")\n",
        "\n",
        "model = AutoModelForCausalLM.from_pretrained(\n",
        "    model_id,\n",
        "    trust_remote_code=True,\n",
        "    config=model_config,\n",
        "    device_map='auto',\n",
        "    token=hf_key\n",
        ")\n",
        "model.eval()\n",
        "print(f\"Model loaded on {device}\")\n"
      ]
    },
    {
      "cell_type": "code",
      "execution_count": 18,
      "id": "40d1d0eb",
      "metadata": {},
      "outputs": [],
      "source": [
        "tokenizer = AutoTokenizer.from_pretrained(model_id,\n",
        "                                          use_aut_token=hf_key)\n"
      ]
    },
    {
      "cell_type": "code",
      "execution_count": 60,
      "id": "3543a5e5",
      "metadata": {},
      "outputs": [
        {
          "name": "stderr",
          "output_type": "stream",
          "text": [
            "Device set to use mps\n"
          ]
        }
      ],
      "source": [
        "# Set up the HuggingFace pipeline with your desired settings.\n",
        "pipe = pipeline(\n",
        "    \"text-generation\",\n",
        "    model=model,\n",
        "    tokenizer=tokenizer,\n",
        "    max_new_tokens=256, # ideally would be 1024, but takes too long given the resource constraints\n",
        "    temperature=0,         # Deterministic output\n",
        "    top_p=1.0,             # Allow full probability distribution\n",
        "    do_sample=False,       # Greedy decoding\n",
        "    eos_token_id=tokenizer.eos_token_id,\n",
        "    repetition_penalty=1.0,  # Lowered if necessary\n",
        "    return_full_text=False,\n",
        "    device_map=\"auto\"\n",
        ")\n",
        "hf_llm = HuggingFacePipeline(pipeline=pipe)"
      ]
    },
    {
      "cell_type": "markdown",
      "id": "a81a5222",
      "metadata": {},
      "source": [
        "Test LLM "
      ]
    },
    {
      "cell_type": "code",
      "execution_count": 61,
      "id": "31a09784",
      "metadata": {},
      "outputs": [
        {
          "name": "stderr",
          "output_type": "stream",
          "text": [
            "/Users/ebengunadi/anaconda3/envs/grids-resume/lib/python3.9/site-packages/transformers/generation/configuration_utils.py:631: UserWarning: `do_sample` is set to `False`. However, `temperature` is set to `0` -- this flag is only used in sample-based generation modes. You should set `do_sample=True` or unset `temperature`.\n",
            "  warnings.warn(\n",
            "Setting `pad_token_id` to `eos_token_id`:128009 for open-end generation.\n"
          ]
        },
        {
          "name": "stdout",
          "output_type": "stream",
          "text": [
            "### Extracted Summary Section:\n",
            "```\n",
            "Seeking a position as an Information Technology Specialist. Over 5 years of information technology experience in the U.S. Army, including over 1\n",
            "year of supervisory experience. Trained personnel in the set-up of IT equipment, ensuring all equipment is properly connected and functioning.\n",
            "Regularly troubleshoot and install various IT equipment and systems. Accountable for the maintenance and inventory of over $1 million worth of IT\n",
            "and other communications equipment with zero losses or damages. Possess a Security and Microsoft Certification and a Secret Security\n",
            "Clearance.\n",
            "```\n",
            "CPU times: user 8.92 s, sys: 25.2 s, total: 34.1 s\n",
            "Wall time: 1min 13s\n"
          ]
        }
      ],
      "source": [
        "%%time\n",
        "test_prompt = f\"\"\"\n",
        "In the provided resume text, please extract the \"Summary\" section exactly as it appears. Follow these rules carefully:\n",
        "\n",
        "1. Identify the first occurrence of a line that contains the word \"Summary\" by itself (ignoring any leading or trailing whitespace and case).\n",
        "2. Starting from the line immediately after the \"Summary\" header, capture all subsequent lines until you encounter a new section header.\n",
        "3. A new section header is defined as either:\n",
        "   - a line that is entirely in uppercase letters (ignoring punctuation), or\n",
        "   - a line that exactly matches (ignoring case) one of these words: Highlights, Experience, Education, Skills, Accomplishments.\n",
        "4. Preserve the original formatting (line breaks, etc.) of the extracted text.\n",
        "5. If no \"Summary\" section is found, return exactly: \"No summary section found.\"\n",
        "\n",
        "### Resume Text:\n",
        "{pdf_33241454_text}\n",
        "\"\"\"\n",
        "\n",
        "# Then run your LLM call:\n",
        "test_response = hf_llm(test_prompt)\n",
        "print(test_response)"
      ]
    },
    {
      "cell_type": "code",
      "execution_count": 62,
      "id": "c210f6af",
      "metadata": {},
      "outputs": [],
      "source": [
        "# --- Optimized Extraction Prompts ---\n",
        "# BASICS: Look for headings like \"BASICS\", \"Personal Information\", or \"Contact Details\"\n",
        "basics_extraction_prompt = (\n",
        "    \"Extract the BASICS section (also known as 'personal information' or 'contact details') \"\n",
        "    \"from the resume text below. Return exactly the raw text of the first block that clearly represents this section. \"\n",
        "    \"Do not generate any new content or commentary. If the section is not found, return exactly 'No basics section found.'\\n\\n\"\n",
        "    \"Resume Text:\\n{text}\"\n",
        ")\n",
        "\n",
        "# WORK: Look for headings such as \"WORK\", \"Experience\", \"Professional Experience\", or \"Employment History\"\n",
        "work_extraction_prompt = (\n",
        "    \"Extract the WORK section (also known as 'experience', 'professional experience', or 'employment history') \"\n",
        "    \"from the resume text below. Return exactly the raw text of the first block that clearly represents this section. \"\n",
        "    \"Do not generate any new details or formatting.'\\n\\n\"\n",
        "    \"Resume Text:\\n{text}\"\n",
        ")\n",
        "\n",
        "# EDUCATION: Include synonyms such as 'Education', 'Academic Background', 'Academic History', or 'Qualifications'\n",
        "education_extraction_prompt = (\n",
        "    \"Extract the EDUCATION section (also known as 'academic background', 'academic history', or 'qualifications') \"\n",
        "    \"from the resume text below. Return exactly the raw text of the first block that clearly represents this section. \"\n",
        "    \"Do not generate any new content or commentary. If the section is not found, return exactly 'No education section found.'\\n\\n\"\n",
        "    \"Resume Text:\\n{text}\"\n",
        ")\n",
        "\n",
        "# SKILLS: Include synonyms like 'Skills', 'Competencies', 'Expertise', 'Technical Skills', or 'Proficiencies'\n",
        "skills_extraction_prompt = (\n",
        "    \"Extract the SKILLS section (also known as 'competencies', 'expertise', 'technical skills', or 'proficiencies') \"\n",
        "    \"from the resume text below. Return exactly the raw text of the first block that clearly represents this section. \"\n",
        "    \"Do not generate any new details or commentary. If the section is not found, return exactly 'No skills section found.'\\n\\n\"\n",
        "    \"Resume Text:\\n{text}\"\n",
        ")\n",
        "\n",
        "# PROJECTS: Include synonyms like 'Projects', 'Portfolio', or 'Work Samples'\n",
        "projects_extraction_prompt = (\n",
        "    \"Extract the PROJECTS section (also known as 'portfolio' or 'work samples') \"\n",
        "    \"from the resume text below. Return exactly the raw text of the first block that clearly represents this section. \"\n",
        "    \"Do not generate any new content or commentary. If the section is not found, return exactly 'No projects section found.'\\n\\n\"\n",
        "    \"Resume Text:\\n{text}\"\n",
        ")"
      ]
    },
    {
      "cell_type": "code",
      "execution_count": 63,
      "id": "59ccce0d",
      "metadata": {},
      "outputs": [],
      "source": [
        "# Create extraction chains.\n",
        "basics_extraction_chain = (\n",
        "    {\"text\": RunnablePassthrough()}\n",
        "    | ChatPromptTemplate.from_template(basics_extraction_prompt)\n",
        "    | hf_llm\n",
        "    | StrOutputParser()\n",
        ")\n",
        "work_extraction_chain = (\n",
        "    {\"text\": RunnablePassthrough()}\n",
        "    | ChatPromptTemplate.from_template(work_extraction_prompt)\n",
        "    | hf_llm\n",
        "    | StrOutputParser()\n",
        ")\n",
        "education_extraction_chain = (\n",
        "    {\"text\": RunnablePassthrough()}\n",
        "    | ChatPromptTemplate.from_template(education_extraction_prompt)\n",
        "    | hf_llm\n",
        "    | StrOutputParser()\n",
        ")\n",
        "skills_extraction_chain = (\n",
        "    {\"text\": RunnablePassthrough()}\n",
        "    | ChatPromptTemplate.from_template(skills_extraction_prompt)\n",
        "    | hf_llm\n",
        "    | StrOutputParser()\n",
        ")\n",
        "projects_extraction_chain = (\n",
        "    {\"text\": RunnablePassthrough()}\n",
        "    | ChatPromptTemplate.from_template(projects_extraction_prompt)\n",
        "    | hf_llm\n",
        "    | StrOutputParser()\n",
        ")"
      ]
    },
    {
      "cell_type": "code",
      "execution_count": 64,
      "id": "3d3b0dbe",
      "metadata": {},
      "outputs": [
        {
          "name": "stderr",
          "output_type": "stream",
          "text": [
            "/Users/ebengunadi/anaconda3/envs/grids-resume/lib/python3.9/site-packages/transformers/generation/configuration_utils.py:631: UserWarning: `do_sample` is set to `False`. However, `temperature` is set to `0` -- this flag is only used in sample-based generation modes. You should set `do_sample=True` or unset `temperature`.\n",
            "  warnings.warn(\n",
            "Setting `pad_token_id` to `eos_token_id`:128009 for open-end generation.\n"
          ]
        },
        {
          "name": "stdout",
          "output_type": "stream",
          "text": [
            "\n",
            "\n",
            "\n",
            "No basics section found.\n",
            "CPU times: user 519 ms, sys: 1.67 s, total: 2.19 s\n",
            "Wall time: 7.6 s\n"
          ]
        }
      ],
      "source": [
        "%%time\n",
        "\n",
        "basics_extracted = basics_extraction_chain.invoke({\"text\": pdf_33241454_text})\n",
        "print(basics_extracted)"
      ]
    },
    {
      "cell_type": "code",
      "execution_count": 65,
      "id": "2bb5cda5",
      "metadata": {},
      "outputs": [
        {
          "name": "stderr",
          "output_type": "stream",
          "text": [
            "/Users/ebengunadi/anaconda3/envs/grids-resume/lib/python3.9/site-packages/transformers/generation/configuration_utils.py:631: UserWarning: `do_sample` is set to `False`. However, `temperature` is set to `0` -- this flag is only used in sample-based generation modes. You should set `do_sample=True` or unset `temperature`.\n",
            "  warnings.warn(\n",
            "Setting `pad_token_id` to `eos_token_id`:128009 for open-end generation.\n"
          ]
        },
        {
          "name": "stdout",
          "output_type": "stream",
          "text": [
            "\n",
            "\n",
            "\n",
            "WORK SECTION\n",
            "'Information Technology Supervisor 01/2011 to 05/2014 Company Name City, State\\nSupervise up to 10 personnel at one time, delegating tasks, conducting performance evaluations and providing corrective counseling as\\nnecessary.\\nTrain personnel in the set-up and proper use of IT related equipment while adhering to all policies and procedures.\\nResponsible for the inventory of over $1 million worth of network communications equipment.\\nTasked by President of the United States to act as supervisor and maintain signal communications for Fort Bragg army base.\\nInformation Technology Technician 01/2009 to 01/2011 Company Name City, State\\nMaintained communications equipment in order to effectively relay confidential and secret information.\\nUtilized electronic test equipment to troubleshoot malfunctioning communications equipment and complete repairs as necessary.\\nRegularly set up and added computer systems to a communication network, installing operation systems, accessing stored programs and\\nutilizing IP addresses.\\nReceived training in LAN/WAN protocols.\\nRadiology Technologist 05/2008 to 09/2008 Company Name City, State\\nRoutinely performed radiological examinations in a medical clinic.\\nCompetent and experienced in the set-up and adjustment of medical devices or\n",
            "CPU times: user 19.1 s, sys: 1min 7s, total: 1min 27s\n",
            "Wall time: 3min 18s\n"
          ]
        }
      ],
      "source": [
        "%%time\n",
        "\n",
        "work_extracted = work_extraction_chain.invoke({\"text\": pdf_33241454_text})\n",
        "print(work_extracted)"
      ]
    },
    {
      "cell_type": "code",
      "execution_count": 66,
      "id": "15216c73",
      "metadata": {},
      "outputs": [
        {
          "name": "stderr",
          "output_type": "stream",
          "text": [
            "/Users/ebengunadi/anaconda3/envs/grids-resume/lib/python3.9/site-packages/transformers/generation/configuration_utils.py:631: UserWarning: `do_sample` is set to `False`. However, `temperature` is set to `0` -- this flag is only used in sample-based generation modes. You should set `do_sample=True` or unset `temperature`.\n",
            "  warnings.warn(\n",
            "Setting `pad_token_id` to `eos_token_id`:128009 for open-end generation.\n"
          ]
        },
        {
          "name": "stdout",
          "output_type": "stream",
          "text": [
            "\n",
            "\n",
            "\n",
            "'Education\\nCertification, Windows 7, Microsoft, Fort Bragg, NC, 2012\\n*Certification, Security, Comptia, Yong San, Korea, 2012\\n*Distinguished Graduate Certificate, Information Technology (Network Communications) Course 2009 U.S. Army City, State\\nCertificate, IT Network and Cisco Routing, IT Field Services Branch 2009 City, State\\nAssociate of Science : Radiography 2008 Northwest Florida State College City, State Radiography\\nCertificate 2001 IT Tech Prep, Trumbull Career and Technical Center State\\nDiploma 2001 Warren G. Harding City, State\\nSkills\\nArmy, Cisco, counseling, customer assistance, database, documentation, Information Technology, inventory, IP, LAN, Windows 7, Network,\\npersonnel, policies, protocols, repairs, Routing, San, supervisor, test equipment, troubleshoot, WAN' \n",
            "\n",
            "No education section found.\n",
            "CPU times: user 13.9 s, sys: 35.2 s, total: 49 s\n",
            "Wall time: 1min 55s\n"
          ]
        }
      ],
      "source": [
        "%%time \n",
        "\n",
        "education_extracted = education_extraction_chain.invoke({\"text\": pdf_33241454_text})\n",
        "print(education_extracted)"
      ]
    },
    {
      "cell_type": "code",
      "execution_count": 67,
      "id": "0feda941",
      "metadata": {},
      "outputs": [
        {
          "name": "stderr",
          "output_type": "stream",
          "text": [
            "/Users/ebengunadi/anaconda3/envs/grids-resume/lib/python3.9/site-packages/transformers/generation/configuration_utils.py:631: UserWarning: `do_sample` is set to `False`. However, `temperature` is set to `0` -- this flag is only used in sample-based generation modes. You should set `do_sample=True` or unset `temperature`.\n",
            "  warnings.warn(\n",
            "Setting `pad_token_id` to `eos_token_id`:128009 for open-end generation.\n"
          ]
        },
        {
          "name": "stdout",
          "output_type": "stream",
          "text": [
            "\n",
            "\n",
            "\n",
            "No skills section found.\n",
            "CPU times: user 596 ms, sys: 1.75 s, total: 2.34 s\n",
            "Wall time: 7.86 s\n"
          ]
        }
      ],
      "source": [
        "%%time \n",
        "\n",
        "skills_extracted = skills_extraction_chain.invoke({\"text\": pdf_33241454_text})\n",
        "print(skills_extracted)"
      ]
    },
    {
      "cell_type": "code",
      "execution_count": 68,
      "id": "4b105ba5",
      "metadata": {},
      "outputs": [
        {
          "name": "stderr",
          "output_type": "stream",
          "text": [
            "/Users/ebengunadi/anaconda3/envs/grids-resume/lib/python3.9/site-packages/transformers/generation/configuration_utils.py:631: UserWarning: `do_sample` is set to `False`. However, `temperature` is set to `0` -- this flag is only used in sample-based generation modes. You should set `do_sample=True` or unset `temperature`.\n",
            "  warnings.warn(\n",
            "Setting `pad_token_id` to `eos_token_id`:128009 for open-end generation.\n"
          ]
        },
        {
          "name": "stdout",
          "output_type": "stream",
          "text": [
            "\n",
            "\n",
            "\n",
            "No projects section found.\n",
            "CPU times: user 625 ms, sys: 1.32 s, total: 1.95 s\n",
            "Wall time: 6.26 s\n"
          ]
        }
      ],
      "source": [
        "%%time \n",
        "\n",
        "projects_extracted = projects_extraction_chain.invoke({\"text\": pdf_33241454_text})\n",
        "print(projects_extracted)"
      ]
    },
    {
      "cell_type": "code",
      "execution_count": 82,
      "id": "932be649",
      "metadata": {},
      "outputs": [],
      "source": [
        "# Define JSON schemas for conversion.\n",
        "basics_schema = '''{\n",
        "    \"name\": \"\",\n",
        "    \"label\": \"\",\n",
        "    \"image\": \"\",\n",
        "    \"email\": \"\",\n",
        "    \"phone\": \"\",\n",
        "    \"url\": \"\",\n",
        "    \"summary\": \"\",\n",
        "    \"location\": {\n",
        "        \"address\": \"\",\n",
        "        \"postalCode\": \"\",\n",
        "        \"city\": \"\",\n",
        "        \"countryCode\": \"\",\n",
        "        \"region\": \"\"\n",
        "    },\n",
        "    \"profiles\": [\n",
        "        {\n",
        "            \"network\": \"\",\n",
        "            \"username\": \"\",\n",
        "            \"url\": \"\"\n",
        "        }\n",
        "    ]\n",
        "}'''\n",
        "\n",
        "work_schema = '''[\n",
        "    {\n",
        "        \"name\": \"\",\n",
        "        \"location\": \"\",\n",
        "        \"description\": \"\",\n",
        "        \"position\": \"\",\n",
        "        \"url\": \"\",\n",
        "        \"startDate\": \"\",\n",
        "        \"endDate\": \"\",\n",
        "        \"summary\": \"\",\n",
        "        \"highlights\": []\n",
        "    }\n",
        "]'''\n",
        "\n",
        "education_schema = '''[\n",
        "    {\n",
        "        \"institution\": \"\",\n",
        "        \"url\": \"\",\n",
        "        \"area\": \"\",\n",
        "        \"studyType\": \"\",\n",
        "        \"startDate\": \"\",\n",
        "        \"endDate\": \"\",\n",
        "        \"score\": \"\",\n",
        "        \"courses\": []\n",
        "    }\n",
        "]'''\n",
        "\n",
        "skills_schema = '''[\n",
        "    {\n",
        "        \"name\": \"\",\n",
        "        \"level\": \"\",\n",
        "        \"keywords\": []\n",
        "    }\n",
        "]'''\n",
        "\n",
        "projects_schema = '''[\n",
        "    {\n",
        "        \"name\": \"\",\n",
        "        \"description\": \"\",\n",
        "        \"highlights\": [],\n",
        "        \"keywords\": [],\n",
        "        \"startDate\": \"\",\n",
        "        \"endDate\": \"\",\n",
        "        \"url\": \"\",\n",
        "        \"roles\": [],\n",
        "        \"entity\": \"\",\n",
        "        \"type\": \"\"\n",
        "    }\n",
        "]'''"
      ]
    },
    {
      "cell_type": "code",
      "execution_count": 101,
      "id": "867a1805",
      "metadata": {},
      "outputs": [],
      "source": [
        "# --- Optimized Conversion Prompts ---\n",
        "# These prompts convert the extracted raw text into the desired JSON format without any extra commentary.\n",
        "basics_conversion_prompt = (\n",
        "    \"Convert the extracted text into a JSON object that strictly adheres to the provided JSON schema. \"\n",
        "    \"Use only the information present in the text; for any field not mentioned, set its value to an empty string. \"\n",
        "    \"Output only the JSON object with no extra commentary or code.\\n\\n\"\n",
        "    \"Schema: {schema}\\n\\n\"\n",
        "    \"Extracted Text:\\n{text}\"\n",
        ")\n",
        "\n",
        "work_conversion_prompt = (\n",
        "    \"Convert the extracted text into a JSON array that strictly adheres to the provided JSON schema. \"\n",
        "    \"Use only the details provided in the text; for any field not mentioned, set its value to an empty string (or an empty array as required). \"\n",
        "    \"Output only the JSON array with no extra commentary or code.\\n\\n\"\n",
        "    \"Schema: {schema}\\n\\n\"\n",
        "    \"Extracted Text:\\n{text}\"\n",
        ")\n",
        "\n",
        "education_conversion_prompt = (\n",
        "    \"Convert the extracted text into a JSON array that strictly adheres to the provided JSON schema. \"\n",
        "    \"Use only the details provided in the text; for any field not mentioned, set its value to an empty string. \"\n",
        "    \"Output only the JSON array with no extra commentary or code.\\n\\n\"\n",
        "    \"Schema: {schema}\\n\\n\"\n",
        "    \"Extracted Text:\\n{text}\\n\\n\"\n",
        "    \"Note: For the 'courses' field, just return an array of names like ['Course 1', 'Course 2'].\"\n",
        ")\n",
        "\n",
        "skills_conversion_prompt = (\n",
        "    \"Convert the extracted text into a JSON array that strictly adheres to the provided JSON schema. \"\n",
        "    \"Use only the details provided in the text; for any field not mentioned, set its value to an empty string. \"\n",
        "    \"Output only the JSON array with no extra commentary or code.\\n\\n\"\n",
        "    \"Schema: {schema}\\n\\n\"\n",
        "    \"Extracted Text:\\n{text}\"\n",
        ")\n",
        "\n",
        "projects_conversion_prompt = (\n",
        "    \"Convert the extracted text into a JSON array that strictly adheres to the provided JSON schema. \"\n",
        "    \"Use only the details provided in the text; for any field not mentioned, set its value to an empty string. \"\n",
        "    \"Output only the JSON array with no extra commentary or code.\\n\\n\"\n",
        "    \"Schema: {schema}\\n\\n\"\n",
        "    \"Extracted Text:\\n{text}\"\n",
        ")"
      ]
    },
    {
      "cell_type": "code",
      "execution_count": 102,
      "id": "941c2b12",
      "metadata": {},
      "outputs": [],
      "source": [
        "# Create conversion chains.\n",
        "basics_conversion_chain = (\n",
        "    {\"text\": RunnablePassthrough(), \"schema\": RunnablePassthrough()}\n",
        "    | ChatPromptTemplate.from_template(basics_conversion_prompt)\n",
        "    | hf_llm\n",
        "    | StrOutputParser()\n",
        ")\n",
        "work_conversion_chain = (\n",
        "    {\"text\": RunnablePassthrough(), \"schema\": RunnablePassthrough()}\n",
        "    | ChatPromptTemplate.from_template(work_conversion_prompt)\n",
        "    | hf_llm\n",
        "    | StrOutputParser()\n",
        ")\n",
        "education_conversion_chain = (\n",
        "    {\"text\": RunnablePassthrough(), \"schema\": RunnablePassthrough()}\n",
        "    | ChatPromptTemplate.from_template(education_conversion_prompt)\n",
        "    | hf_llm\n",
        "    | StrOutputParser()\n",
        ")\n",
        "skills_conversion_chain = (\n",
        "    {\"text\": RunnablePassthrough(), \"schema\": RunnablePassthrough()}\n",
        "    | ChatPromptTemplate.from_template(skills_conversion_prompt)\n",
        "    | hf_llm\n",
        "    | StrOutputParser()\n",
        ")\n",
        "projects_conversion_chain = (\n",
        "    {\"text\": RunnablePassthrough(), \"schema\": RunnablePassthrough()}\n",
        "    | ChatPromptTemplate.from_template(projects_conversion_prompt)\n",
        "    | hf_llm\n",
        "    | StrOutputParser()\n",
        ")"
      ]
    },
    {
      "cell_type": "code",
      "execution_count": 85,
      "id": "e450ca97",
      "metadata": {},
      "outputs": [
        {
          "name": "stdout",
          "output_type": "stream",
          "text": [
            "{\n",
            "    \"name\": \"\",\n",
            "    \"label\": \"\",\n",
            "    \"image\": \"\",\n",
            "    \"email\": \"\",\n",
            "    \"phone\": \"\",\n",
            "    \"url\": \"\",\n",
            "    \"summary\": \"\",\n",
            "    \"location\": {\n",
            "        \"address\": \"\",\n",
            "        \"postalCode\": \"\",\n",
            "        \"city\": \"\",\n",
            "        \"countryCode\": \"\",\n",
            "        \"region\": \"\"\n",
            "    },\n",
            "    \"profiles\": [\n",
            "        {\n",
            "            \"network\": \"\",\n",
            "            \"username\": \"\",\n",
            "            \"url\": \"\"\n",
            "        }\n",
            "    ]\n",
            "}\n",
            "CPU times: user 389 µs, sys: 145 µs, total: 534 µs\n",
            "Wall time: 513 µs\n"
          ]
        }
      ],
      "source": [
        "%%time\n",
        "\n",
        "# if the extracted text startsWith \"No.*section found\" is in the extracted text, just return the schema\n",
        "# else run the conversion chain\n",
        "\n",
        "if re.match(r\"^No\\s+\\w+\\s+section\\s+found\\.?\", basics_extracted.strip(), re.IGNORECASE) is not None:\n",
        "    basics_json_response = basics_schema\n",
        "else:\n",
        "    basics_json_response = basics_conversion_chain.invoke({\"text\": basics_extracted, \"schema\": basics_schema})\n",
        "\n",
        "print(basics_json_response)"
      ]
    },
    {
      "cell_type": "code",
      "execution_count": 86,
      "id": "562b8441",
      "metadata": {},
      "outputs": [],
      "source": [
        "def extract_json_object(response: str) -> str:\n",
        "    \"\"\"\n",
        "    Extracts the JSON substring from the LLM response.\n",
        "    \"\"\"\n",
        "    match = re.search(r'(\\{.*\\})', response, re.DOTALL)\n",
        "    if match:\n",
        "        return match.group(1)\n",
        "    return response\n"
      ]
    },
    {
      "cell_type": "code",
      "execution_count": 87,
      "id": "5e540299",
      "metadata": {},
      "outputs": [
        {
          "data": {
            "text/plain": [
              "{'name': '',\n",
              " 'label': '',\n",
              " 'image': '',\n",
              " 'email': '',\n",
              " 'phone': '',\n",
              " 'url': '',\n",
              " 'summary': '',\n",
              " 'location': {'address': '',\n",
              "  'postalCode': '',\n",
              "  'city': '',\n",
              "  'countryCode': '',\n",
              "  'region': ''},\n",
              " 'profiles': [{'network': '', 'username': '', 'url': ''}]}"
            ]
          },
          "execution_count": 87,
          "metadata": {},
          "output_type": "execute_result"
        }
      ],
      "source": [
        "basics_json_parsed = json.loads(extract_json_object(basics_json_response))\n",
        "basics_json_parsed\n"
      ]
    },
    {
      "cell_type": "code",
      "execution_count": 88,
      "id": "62824e25",
      "metadata": {},
      "outputs": [
        {
          "name": "stderr",
          "output_type": "stream",
          "text": [
            "/Users/ebengunadi/anaconda3/envs/grids-resume/lib/python3.9/site-packages/transformers/generation/configuration_utils.py:631: UserWarning: `do_sample` is set to `False`. However, `temperature` is set to `0` -- this flag is only used in sample-based generation modes. You should set `do_sample=True` or unset `temperature`.\n",
            "  warnings.warn(\n",
            "Setting `pad_token_id` to `eos_token_id`:128009 for open-end generation.\n"
          ]
        },
        {
          "name": "stdout",
          "output_type": "stream",
          "text": [
            " \n",
            "\n",
            "```json\n",
            "[\n",
            "  {\n",
            "    \"name\": \"Information Technology Supervisor\",\n",
            "    \"location\": \"City, State\",\n",
            "    \"description\": \"\",\n",
            "    \"position\": \"Supervise up to 10 personnel at one time, delegating tasks, conducting performance evaluations and providing corrective counseling as necessary. Train personnel in the set-up and proper use of IT related equipment while adhering to all policies and procedures. Responsible for the inventory of over $1 million worth of network communications equipment. Tasked by President of the United States to act as supervisor and maintain signal communications for Fort Bragg army base.\",\n",
            "    \"url\": \"\",\n",
            "    \"startDate\": \"01/2011\",\n",
            "    \"endDate\": \"05/2014\",\n",
            "    \"summary\": \"\",\n",
            "    \"highlights\": []\n",
            "  },\n",
            "  {\n",
            "    \"name\": \"Information Technology Technician\",\n",
            "    \"location\": \"City, State\",\n",
            "    \"description\": \"Maintained communications equipment in order to effectively relay confidential and secret information. Utilized electronic test equipment to troubleshoot malfunctioning communications equipment and complete repairs as necessary. Regularly set up and added computer systems to a communication network, installing operation systems, accessing stored programs and utilizing IP addresses. Received training in LAN/WAN protocols.\",\n",
            "    \"position\": \"\",\n",
            "    \"\n",
            "CPU times: user 18 s, sys: 46.9 s, total: 1min 4s\n",
            "Wall time: 2min 22s\n"
          ]
        }
      ],
      "source": [
        "%%time\n",
        "\n",
        "# if the extracted text startsWith \"No.*section found\" is in the extracted text, just return the schema\n",
        "# else run the conversion chain\n",
        "\n",
        "if re.match(r\"^No\\s+\\w+\\s+section\\s+found\\.?\", work_extracted.strip(), re.IGNORECASE) is not None:\n",
        "    work_json_response = work_schema\n",
        "else:\n",
        "    work_json_response = work_conversion_chain.invoke({\"text\": work_extracted, \"schema\": work_schema})\n",
        "\n",
        "print(work_json_response)"
      ]
    },
    {
      "cell_type": "code",
      "execution_count": 89,
      "id": "69c987b9",
      "metadata": {},
      "outputs": [],
      "source": [
        "def extract_first_json_array(response: str) -> str:\n",
        "    \"\"\"\n",
        "    Extracts the JSON array substring from the LLM response.\n",
        "    Due to the 256 max token limit, just return the first object in the array and add a closing bracket.\n",
        "    \"\"\"\n",
        "    match = re.search(r'(\\[.*?\\})', response, re.DOTALL)\n",
        "    if match:\n",
        "        return match.group(1) + ']'\n",
        "    return response\n",
        "    "
      ]
    },
    {
      "cell_type": "code",
      "execution_count": 90,
      "id": "d6f214ca",
      "metadata": {},
      "outputs": [
        {
          "data": {
            "text/plain": [
              "[{'name': 'Information Technology Supervisor',\n",
              "  'location': 'City, State',\n",
              "  'description': '',\n",
              "  'position': 'Supervise up to 10 personnel at one time, delegating tasks, conducting performance evaluations and providing corrective counseling as necessary. Train personnel in the set-up and proper use of IT related equipment while adhering to all policies and procedures. Responsible for the inventory of over $1 million worth of network communications equipment. Tasked by President of the United States to act as supervisor and maintain signal communications for Fort Bragg army base.',\n",
              "  'url': '',\n",
              "  'startDate': '01/2011',\n",
              "  'endDate': '05/2014',\n",
              "  'summary': '',\n",
              "  'highlights': []}]"
            ]
          },
          "execution_count": 90,
          "metadata": {},
          "output_type": "execute_result"
        }
      ],
      "source": [
        "work_json_parsed = json.loads(extract_first_json_array(work_json_response))\n",
        "work_json_parsed\n"
      ]
    },
    {
      "cell_type": "code",
      "execution_count": 103,
      "id": "44b4c832",
      "metadata": {},
      "outputs": [
        {
          "name": "stderr",
          "output_type": "stream",
          "text": [
            "/Users/ebengunadi/anaconda3/envs/grids-resume/lib/python3.9/site-packages/transformers/generation/configuration_utils.py:631: UserWarning: `do_sample` is set to `False`. However, `temperature` is set to `0` -- this flag is only used in sample-based generation modes. You should set `do_sample=True` or unset `temperature`.\n",
            "  warnings.warn(\n",
            "Setting `pad_token_id` to `eos_token_id`:128009 for open-end generation.\n"
          ]
        },
        {
          "name": "stdout",
          "output_type": "stream",
          "text": [
            " Do not include the course numbers.\n",
            "\n",
            "```json\n",
            "[\n",
            "  {\n",
            "    \"institution\": \"Microsoft\",\n",
            "    \"url\": \"\",\n",
            "    \"area\": \"\",\n",
            "    \"studyType\": \"\",\n",
            "    \"startDate\": \"\",\n",
            "    \"endDate\": \"\",\n",
            "    \"score\": \"\",\n",
            "    \"courses\": [\n",
            "      \"Information Technology (Network Communications)\",\n",
            "      \"IT Network and Cisco Routing\"\n",
            "    ]\n",
            "  },\n",
            "  {\n",
            "    \"institution\": \"Comptia\",\n",
            "    \"url\": \"\",\n",
            "    \"area\": \"\",\n",
            "    \"studyType\": \"\",\n",
            "    \"startDate\": \"\",\n",
            "    \"endDate\": \"\",\n",
            "    \"score\": \"\",\n",
            "    \"courses\": [\n",
            "      \"Security\"\n",
            "    ]\n",
            "  },\n",
            "  {\n",
            "    \"institution\": \"U.S. Army\",\n",
            "    \"url\": \"\",\n",
            "    \"area\": \"\",\n",
            "    \"studyType\": \"\",\n",
            "    \"startDate\": \"\",\n",
            "    \"endDate\": \"\",\n",
            "    \"score\": \"\",\n",
            "    \"courses\": [\n",
            "      \"Information Technology (Network Communications)\"\n",
            "    ]\n",
            "  },\n",
            "  {\n",
            "    \"institution\": \"Northwest Florida State College\",\n",
            "    \"url\": \"\",\n",
            "    \"area\": \"\",\n",
            "    \"studyType\": \"\",\n",
            "    \"startDate\": \"\",\n",
            "    \"endDate\": \"\",\n",
            "    \"score\": \"\",\n",
            "    \"courses\": [\n",
            "      \"Radiography\"\n",
            "    ]\n",
            "  },\n",
            "  {\n",
            "    \"institution\": \"\n",
            "CPU times: user 18.2 s, sys: 46.8 s, total: 1min 4s\n",
            "Wall time: 2min 19s\n"
          ]
        }
      ],
      "source": [
        "%%time\n",
        "\n",
        "# if the extracted text startsWith \"No.*section found\" is in the extracted text, just return the schema\n",
        "# else run the conversion chain\n",
        "\n",
        "if re.match(r\"^No\\s+\\w+\\s+section\\s+found\\.?\", education_extracted.strip(), re.IGNORECASE) is not None:\n",
        "    education_json_response = education_schema\n",
        "else:\n",
        "    education_json_response = education_conversion_chain.invoke({\"text\": education_extracted, \"schema\": education_schema})\n",
        "\n",
        "print(education_json_response)"
      ]
    },
    {
      "cell_type": "code",
      "execution_count": 104,
      "id": "c484d704",
      "metadata": {},
      "outputs": [
        {
          "data": {
            "text/plain": [
              "[{'institution': 'Microsoft',\n",
              "  'url': '',\n",
              "  'area': '',\n",
              "  'studyType': '',\n",
              "  'startDate': '',\n",
              "  'endDate': '',\n",
              "  'score': '',\n",
              "  'courses': ['Information Technology (Network Communications)',\n",
              "   'IT Network and Cisco Routing']}]"
            ]
          },
          "execution_count": 104,
          "metadata": {},
          "output_type": "execute_result"
        }
      ],
      "source": [
        "education_json_parsed = json.loads(extract_first_json_array(education_json_response))\n",
        "education_json_parsed\n"
      ]
    },
    {
      "cell_type": "code",
      "execution_count": 105,
      "id": "e38a51f8",
      "metadata": {},
      "outputs": [
        {
          "name": "stdout",
          "output_type": "stream",
          "text": [
            "[\n",
            "    {\n",
            "        \"name\": \"\",\n",
            "        \"level\": \"\",\n",
            "        \"keywords\": []\n",
            "    }\n",
            "]\n",
            "CPU times: user 91 µs, sys: 122 µs, total: 213 µs\n",
            "Wall time: 428 µs\n"
          ]
        }
      ],
      "source": [
        "%%time\n",
        "\n",
        "# if the extracted text startsWith \"No.*section found\" is in the extracted text, just return the schema\n",
        "# else run the conversion chain\n",
        "\n",
        "if re.match(r\"^No\\s+\\w+\\s+section\\s+found\\.?\", skills_extracted.strip(), re.IGNORECASE) is not None:\n",
        "    skills_json_response = skills_schema\n",
        "else:\n",
        "    skills_json_response = skills_conversion_chain.invoke({\"text\": skills_extracted, \"schema\": skills_schema})\n",
        "\n",
        "print(skills_json_response)"
      ]
    },
    {
      "cell_type": "code",
      "execution_count": 106,
      "id": "b33b7d7c",
      "metadata": {},
      "outputs": [
        {
          "data": {
            "text/plain": [
              "[{'name': '', 'level': '', 'keywords': []}]"
            ]
          },
          "execution_count": 106,
          "metadata": {},
          "output_type": "execute_result"
        }
      ],
      "source": [
        "skills_json_parsed = json.loads(extract_first_json_array(skills_json_response))\n",
        "skills_json_parsed\n"
      ]
    },
    {
      "cell_type": "code",
      "execution_count": 107,
      "id": "5c9a25e3",
      "metadata": {},
      "outputs": [
        {
          "name": "stdout",
          "output_type": "stream",
          "text": [
            "[\n",
            "    {\n",
            "        \"name\": \"\",\n",
            "        \"description\": \"\",\n",
            "        \"highlights\": [],\n",
            "        \"keywords\": [],\n",
            "        \"startDate\": \"\",\n",
            "        \"endDate\": \"\",\n",
            "        \"url\": \"\",\n",
            "        \"roles\": [],\n",
            "        \"entity\": \"\",\n",
            "        \"type\": \"\"\n",
            "    }\n",
            "]\n",
            "CPU times: user 269 µs, sys: 187 µs, total: 456 µs\n",
            "Wall time: 634 µs\n"
          ]
        }
      ],
      "source": [
        "%%time\n",
        "\n",
        "# if the extracted text startsWith \"No.*section found\" is in the extracted text, just return the schema\n",
        "# else run the conversion chain\n",
        "\n",
        "if re.match(r\"^No\\s+\\w+\\s+section\\s+found\\.?\", projects_extracted.strip(), re.IGNORECASE) is not None:\n",
        "    projects_json_response = projects_schema\n",
        "else:\n",
        "    projects_json_response = projects_conversion_chain.invoke({\"text\": projects_extracted, \"schema\": projects_schema})\n",
        "\n",
        "print(projects_json_response)"
      ]
    },
    {
      "cell_type": "code",
      "execution_count": 108,
      "id": "24cecff2",
      "metadata": {},
      "outputs": [
        {
          "data": {
            "text/plain": [
              "[{'name': '',\n",
              "  'description': '',\n",
              "  'highlights': [],\n",
              "  'keywords': [],\n",
              "  'startDate': '',\n",
              "  'endDate': '',\n",
              "  'url': '',\n",
              "  'roles': [],\n",
              "  'entity': '',\n",
              "  'type': ''}]"
            ]
          },
          "execution_count": 108,
          "metadata": {},
          "output_type": "execute_result"
        }
      ],
      "source": [
        "projects_json_parsed = json.loads(extract_first_json_array(projects_json_response))\n",
        "projects_json_parsed\n"
      ]
    },
    {
      "cell_type": "markdown",
      "id": "7b6fe7e0",
      "metadata": {},
      "source": [
        "## Put together the final JSON"
      ]
    },
    {
      "cell_type": "code",
      "execution_count": 109,
      "id": "32c6e8c6",
      "metadata": {},
      "outputs": [
        {
          "data": {
            "text/plain": [
              "{'$schema': 'https://raw.githubusercontent.com/jsonresume/resume-schema/v1.0.0/schema.json',\n",
              " 'basics': {'name': '',\n",
              "  'label': '',\n",
              "  'image': '',\n",
              "  'email': '',\n",
              "  'phone': '',\n",
              "  'url': '',\n",
              "  'summary': '',\n",
              "  'location': {'address': '',\n",
              "   'postalCode': '',\n",
              "   'city': '',\n",
              "   'countryCode': '',\n",
              "   'region': ''},\n",
              "  'profiles': [{'network': '', 'username': '', 'url': ''}]},\n",
              " 'work': [{'name': 'Information Technology Supervisor',\n",
              "   'location': 'City, State',\n",
              "   'description': '',\n",
              "   'position': 'Supervise up to 10 personnel at one time, delegating tasks, conducting performance evaluations and providing corrective counseling as necessary. Train personnel in the set-up and proper use of IT related equipment while adhering to all policies and procedures. Responsible for the inventory of over $1 million worth of network communications equipment. Tasked by President of the United States to act as supervisor and maintain signal communications for Fort Bragg army base.',\n",
              "   'url': '',\n",
              "   'startDate': '01/2011',\n",
              "   'endDate': '05/2014',\n",
              "   'summary': '',\n",
              "   'highlights': []}],\n",
              " 'education': [{'institution': 'Microsoft',\n",
              "   'url': '',\n",
              "   'area': '',\n",
              "   'studyType': '',\n",
              "   'startDate': '',\n",
              "   'endDate': '',\n",
              "   'score': '',\n",
              "   'courses': ['Information Technology (Network Communications)',\n",
              "    'IT Network and Cisco Routing']}],\n",
              " 'skills': [{'name': '', 'level': '', 'keywords': []}],\n",
              " 'projects': [{'name': '',\n",
              "   'description': '',\n",
              "   'highlights': [],\n",
              "   'keywords': [],\n",
              "   'startDate': '',\n",
              "   'endDate': '',\n",
              "   'url': '',\n",
              "   'roles': [],\n",
              "   'entity': '',\n",
              "   'type': ''}],\n",
              " 'meta': {'canonical': 'https://raw.githubusercontent.com/jsonresume/resume-schema/v1.0.0/sample.resume.json',\n",
              "  'version': 'v1.0.0',\n",
              "  'lastModified': '2017-12-24T15:53:00'}}"
            ]
          },
          "execution_count": 109,
          "metadata": {},
          "output_type": "execute_result"
        }
      ],
      "source": [
        "# put it all together\n",
        "\n",
        "resume_json = {\n",
        "    \"$schema\": \"https://raw.githubusercontent.com/jsonresume/resume-schema/v1.0.0/schema.json\",\n",
        "    \"basics\": basics_json_parsed,\n",
        "    \"work\": work_json_parsed,\n",
        "    \"education\": education_json_parsed,\n",
        "    \"skills\": skills_json_parsed,\n",
        "    \"projects\": projects_json_parsed,\n",
        "    \"meta\": {\n",
        "        \"canonical\": \"https://raw.githubusercontent.com/jsonresume/resume-schema/v1.0.0/sample.resume.json\",\n",
        "        \"version\": \"v1.0.0\",\n",
        "        \"lastModified\": \"2017-12-24T15:53:00\"\n",
        "    }\n",
        "}\n",
        "\n",
        "resume_json"
      ]
    },
    {
      "cell_type": "code",
      "execution_count": 111,
      "id": "5b3287bf",
      "metadata": {},
      "outputs": [
        {
          "name": "stdout",
          "output_type": "stream",
          "text": [
            "Resume JSON saved to ../data/INFORMATION-TECHNOLOGY-JSON/33241454.json\n"
          ]
        }
      ],
      "source": [
        "output_file = '../data/INFORMATION-TECHNOLOGY-JSON/33241454.json'\n",
        "with open(output_file, 'w') as f:\n",
        "    json.dump(resume_json, f, indent=4)\n",
        "    print(f\"Resume JSON saved to {output_file}\")"
      ]
    },
    {
      "cell_type": "markdown",
      "id": "af96a34b",
      "metadata": {},
      "source": [
        "## Cleanup\n",
        "\n"
      ]
    },
    {
      "cell_type": "code",
      "execution_count": null,
      "id": "3a100825",
      "metadata": {},
      "outputs": [],
      "source": [
        "# !pip install \"huggingface_hub[cli]\""
      ]
    },
    {
      "cell_type": "code",
      "execution_count": null,
      "id": "dd4a60b1",
      "metadata": {},
      "outputs": [],
      "source": [
        "# cleanup huggingface LLMs\n",
        "\n",
        "# run this command in the terminal\n",
        "# huggingface-cli delete-cache"
      ]
    }
  ],
  "metadata": {
    "colab": {
      "machine_shape": "hm",
      "provenance": []
    },
    "kernelspec": {
      "display_name": "grids-resume",
      "language": "python",
      "name": "python3"
    },
    "language_info": {
      "codemirror_mode": {
        "name": "ipython",
        "version": 3
      },
      "file_extension": ".py",
      "mimetype": "text/x-python",
      "name": "python",
      "nbconvert_exporter": "python",
      "pygments_lexer": "ipython3",
      "version": "3.9.20"
    },
    "papermill": {
      "default_parameters": {},
      "duration": 301.368093,
      "end_time": "2023-11-07T23:43:39.05917",
      "environment_variables": {},
      "exception": null,
      "input_path": "__notebook__.ipynb",
      "output_path": "__notebook__.ipynb",
      "parameters": {},
      "start_time": "2023-11-07T23:38:37.691077",
      "version": "2.4.0"
    }
  },
  "nbformat": 4,
  "nbformat_minor": 5
}
